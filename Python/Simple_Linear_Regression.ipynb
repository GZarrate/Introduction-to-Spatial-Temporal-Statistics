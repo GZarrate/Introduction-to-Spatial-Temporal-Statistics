{
 "cells": [
  {
   "cell_type": "markdown",
   "metadata": {},
   "source": [
    "# Simple Linear Regression\n",
    "\n",
    "The name *simple linear regression* refers to a linear regression model with only a single predictor, or input variable $x$, a single output variable $y$, and Gaussian distributed model errors. The model is written as follows\n",
    "\n",
    "$$ y = \\beta_0 + \\beta_1x + \\epsilon, $$\n",
    "\n",
    "where $\\beta_0$ and $\\beta_1$ are the parameters and $\\epsilon$ is a Gaussian variable with zero mean and variance $\\sigma^2$, or $\\epsilon \\sim N(0,\\sigma^2)$. In the classical approach we estimate the parameters of the model via maximum likelihood, which has the familiar closed form solution for the best fitting parameters\n",
    "\n",
    "$$ \\hat{\\mathbf{\\beta}} = (X'X)^{-1}X'y  $$\n",
    "\n",
    "with \n",
    "\n",
    "$$ \\hat{\\sigma^2} = \\frac{1}{N-1} \\sum_{i=1}^{N} (y_i - \\hat{\\beta_0} + \\hat{\\beta_1}x_i)^2  $$\n",
    "\n",
    "and 'standard error'\n",
    "\n",
    "$$  se(\\mathbf{\\beta}) = \\frac{\\hat{\\sigma}}{\\sum_{i=1}^N (x_i - \\bar{x})^2}.$$\n",
    "\n",
    "PLACEHOLDER: hypothesis test\n",
    "\n",
    "We can write the same model in hierarchical Bayesian form\n",
    "\n",
    "$$ p(y | x, \\beta) \\sim N(\\beta_0 + \\beta_1x,\\sigma^2) $$\n",
    "\n",
    "$$ p(\\beta_0) \\sim uniform(a_1,b_1) $$\n",
    "\n",
    "$$ p(\\beta_1) \\sim uniform(a_2,b_2) $$"
   ]
  },
  {
   "cell_type": "code",
   "execution_count": 40,
   "metadata": {
    "collapsed": true
   },
   "outputs": [],
   "source": [
    "SLR = \"\"\"\n",
    "data{\n",
    "\tint N; \t\t\t//length of dataset\n",
    "\tvector[N] y;\t//response observations\n",
    "\tvector[N] x;\t//input observations\n",
    "}\n",
    "parameters{\n",
    "\treal beta0;\n",
    "\treal beta1;\n",
    "\treal<lower=0> sigma;\n",
    "}\n",
    "model{\n",
    "\tbeta0 ~ uniform(-1,1);\t\t\t\t//prior on beta0, uniform density on (-1,1)\n",
    "\tbeta1 ~ uniform(-1,1);\t\t\t\t//prior on beta1\n",
    "\ty ~ normal(beta0 + beta1*x, sigma);\t//likelihood model; p(y|x,beta0,beta1,sigma) ~ Gaussian \n",
    "}\n",
    "generated quantities{\n",
    "\tvector[N] y_pred;     //predictive distribution\n",
    "\tvector[N] log_lik;    //marginal log likelihood for model comparison later on\n",
    "\n",
    "\tfor (i in 1:N)\n",
    "\t\ty_pred[i] = beta0 + beta1*x[i];                              //generate prediction for y within MCMC step for parameters\n",
    "\tfor (i in 1:N)\n",
    "\t\tlog_lik[i] = normal_lpdf(y[i] | beta0 + beta1*x[i], sigma);  //compute marginal log-likelihood within MCMC\n",
    "}\n",
    "\"\"\""
   ]
  },
  {
   "cell_type": "code",
   "execution_count": 41,
   "metadata": {
    "collapsed": true
   },
   "outputs": [],
   "source": [
    "#-- Import Packages\n",
    "import pystan\n",
    "import os\n",
    "import numpy as np\n",
    "import matplotlib.pyplot as plt"
   ]
  },
  {
   "cell_type": "code",
   "execution_count": 42,
   "metadata": {
    "collapsed": false
   },
   "outputs": [
    {
     "name": "stderr",
     "output_type": "stream",
     "text": [
      "INFO:pystan:COMPILING THE C++ CODE FOR MODEL anon_model_0bb3b2d581d501c8780c03b2cdec4f92 NOW.\n"
     ]
    }
   ],
   "source": [
    "#-- Comple C++ model\n",
    "mod_slr = pystan.StanModel(model_code=SLR)"
   ]
  },
  {
   "cell_type": "code",
   "execution_count": 43,
   "metadata": {
    "collapsed": false
   },
   "outputs": [],
   "source": [
    "#-- Read data from csv file\n",
    "with open(os.path.expanduser('~/DSI_course.dir/data/ozone_Riverside_epa.csv')) as f:\n",
    "    content = f.readlines()\n",
    "\n",
    "#-- get indices for ozone and temperature columns.\n",
    "headers = np.array(content[0].split(\"\\\",\\\"\")) #split column headers\n",
    "temp_ind = np.squeeze(np.nonzero(headers=='temp'))\n",
    "oz_ind = np.squeeze(np.nonzero(headers=='Arithmetic.Mean'))\n",
    "\n",
    "#-- Now get the corresponding columns\n",
    "temp = np.zeros(len(content)-1) #initalize, skipping header line\n",
    "oz = np.zeros(len(content)-1)\n",
    "for i in range(1,len(content)):\n",
    "    line = np.array(content[i].replace('\\\"','').split(',')) #split row and take out quotations\n",
    "    #-- change all 'NA' elements to None\n",
    "    ind = np.nonzero(line=='NA')\n",
    "    line[ind] = 'nan'\n",
    "    temp[i-1] = np.float(line[temp_ind])\n",
    "    oz[i-1] = np.float(line[oz_ind])\n",
    "\n",
    "#-- Subsample larger dataset into a dictionary for stan\n",
    "stan_dat = {key:value for (key,value) in zip(temp[:200],oz[:200])}"
   ]
  },
  {
   "cell_type": "code",
   "execution_count": 44,
   "metadata": {
    "collapsed": false
   },
   "outputs": [
    {
     "ename": "AttributeError",
     "evalue": "'numpy.float64' object has no attribute 'encode'",
     "output_type": "error",
     "traceback": [
      "\u001b[0;31m---------------------------------------------------------------------------\u001b[0m",
      "\u001b[0;31mAttributeError\u001b[0m                            Traceback (most recent call last)",
      "\u001b[0;32m<ipython-input-44-fb4b6d8691c9>\u001b[0m in \u001b[0;36m<module>\u001b[0;34m()\u001b[0m\n\u001b[1;32m      1\u001b[0m \u001b[0;31m#-- MCMC sampling\u001b[0m\u001b[0;34m\u001b[0m\u001b[0;34m\u001b[0m\u001b[0m\n\u001b[0;32m----> 2\u001b[0;31m \u001b[0mfit\u001b[0m \u001b[0;34m=\u001b[0m \u001b[0mmod_slr\u001b[0m\u001b[0;34m.\u001b[0m\u001b[0msampling\u001b[0m\u001b[0;34m(\u001b[0m\u001b[0mdata\u001b[0m\u001b[0;34m=\u001b[0m\u001b[0mstan_dat\u001b[0m\u001b[0;34m)\u001b[0m\u001b[0;34m\u001b[0m\u001b[0m\n\u001b[0m\u001b[1;32m      3\u001b[0m \u001b[0;31m#-- Extract (Note whereas RStan uses lists, PyStan uses dictionaries)\u001b[0m\u001b[0;34m\u001b[0m\u001b[0;34m\u001b[0m\u001b[0m\n\u001b[1;32m      4\u001b[0m \u001b[0mpost\u001b[0m \u001b[0;34m=\u001b[0m \u001b[0mfit\u001b[0m\u001b[0;34m.\u001b[0m\u001b[0mextract\u001b[0m\u001b[0;34m(\u001b[0m\u001b[0;34m)\u001b[0m\u001b[0;34m\u001b[0m\u001b[0m\n\u001b[1;32m      5\u001b[0m \u001b[0mprint\u001b[0m\u001b[0;34m(\u001b[0m\u001b[0mlen\u001b[0m\u001b[0;34m(\u001b[0m\u001b[0mpost\u001b[0m\u001b[0;34m.\u001b[0m\u001b[0mkeys\u001b[0m\u001b[0;34m(\u001b[0m\u001b[0;34m)\u001b[0m\u001b[0;34m)\u001b[0m\u001b[0;34m)\u001b[0m\u001b[0;34m\u001b[0m\u001b[0m\n",
      "\u001b[0;32m/Users/yaramohajerani/anaconda3/lib/python3.6/site-packages/pystan/model.py\u001b[0m in \u001b[0;36msampling\u001b[0;34m(self, data, pars, chains, iter, warmup, thin, seed, init, sample_file, diagnostic_file, verbose, algorithm, control, n_jobs, **kwargs)\u001b[0m\n\u001b[1;32m    664\u001b[0m             \u001b[0;32mraise\u001b[0m \u001b[0mValueError\u001b[0m\u001b[0;34m(\u001b[0m\u001b[0;34m\"Algorithm must be one of {}\"\u001b[0m\u001b[0;34m.\u001b[0m\u001b[0mformat\u001b[0m\u001b[0;34m(\u001b[0m\u001b[0malgorithms\u001b[0m\u001b[0;34m)\u001b[0m\u001b[0;34m)\u001b[0m\u001b[0;34m\u001b[0m\u001b[0m\n\u001b[1;32m    665\u001b[0m \u001b[0;34m\u001b[0m\u001b[0m\n\u001b[0;32m--> 666\u001b[0;31m         \u001b[0mfit\u001b[0m \u001b[0;34m=\u001b[0m \u001b[0mself\u001b[0m\u001b[0;34m.\u001b[0m\u001b[0mfit_class\u001b[0m\u001b[0;34m(\u001b[0m\u001b[0mdata\u001b[0m\u001b[0;34m)\u001b[0m\u001b[0;34m\u001b[0m\u001b[0m\n\u001b[0m\u001b[1;32m    667\u001b[0m \u001b[0;34m\u001b[0m\u001b[0m\n\u001b[1;32m    668\u001b[0m         \u001b[0mm_pars\u001b[0m \u001b[0;34m=\u001b[0m \u001b[0mfit\u001b[0m\u001b[0;34m.\u001b[0m\u001b[0m_get_param_names\u001b[0m\u001b[0;34m(\u001b[0m\u001b[0;34m)\u001b[0m\u001b[0;34m\u001b[0m\u001b[0m\n",
      "\u001b[0;32mstanfit4anon_model_0bb3b2d581d501c8780c03b2cdec4f92_362677851249178475.pyx\u001b[0m in \u001b[0;36mstanfit4anon_model_0bb3b2d581d501c8780c03b2cdec4f92_362677851249178475.StanFit4Model.__cinit__ (/var/folders/gb/bltzkt112gxf9g9x1ry1x7880000gp/T/tmp_29c82fh/stanfit4anon_model_0bb3b2d581d501c8780c03b2cdec4f92_362677851249178475.cpp:9011)\u001b[0;34m()\u001b[0m\n",
      "\u001b[0;32m/Users/yaramohajerani/anaconda3/lib/python3.6/site-packages/pystan/misc.py\u001b[0m in \u001b[0;36m_split_data\u001b[0;34m(data)\u001b[0m\n\u001b[1;32m    363\u001b[0m             \u001b[0mdata_i\u001b[0m\u001b[0;34m.\u001b[0m\u001b[0mupdate\u001b[0m\u001b[0;34m(\u001b[0m\u001b[0;34m{\u001b[0m\u001b[0mk\u001b[0m\u001b[0;34m.\u001b[0m\u001b[0mencode\u001b[0m\u001b[0;34m(\u001b[0m\u001b[0;34m'utf-8'\u001b[0m\u001b[0;34m)\u001b[0m\u001b[0;34m:\u001b[0m \u001b[0mnp\u001b[0m\u001b[0;34m.\u001b[0m\u001b[0masarray\u001b[0m\u001b[0;34m(\u001b[0m\u001b[0mv\u001b[0m\u001b[0;34m,\u001b[0m \u001b[0mdtype\u001b[0m\u001b[0;34m=\u001b[0m\u001b[0mint\u001b[0m\u001b[0;34m)\u001b[0m\u001b[0;34m}\u001b[0m\u001b[0;34m)\u001b[0m\u001b[0;34m\u001b[0m\u001b[0m\n\u001b[1;32m    364\u001b[0m         \u001b[0;32melif\u001b[0m \u001b[0mnp\u001b[0m\u001b[0;34m.\u001b[0m\u001b[0missubdtype\u001b[0m\u001b[0;34m(\u001b[0m\u001b[0mnp\u001b[0m\u001b[0;34m.\u001b[0m\u001b[0masarray\u001b[0m\u001b[0;34m(\u001b[0m\u001b[0mv\u001b[0m\u001b[0;34m)\u001b[0m\u001b[0;34m.\u001b[0m\u001b[0mdtype\u001b[0m\u001b[0;34m,\u001b[0m \u001b[0mfloat\u001b[0m\u001b[0;34m)\u001b[0m\u001b[0;34m:\u001b[0m\u001b[0;34m\u001b[0m\u001b[0m\n\u001b[0;32m--> 365\u001b[0;31m             \u001b[0mdata_r\u001b[0m\u001b[0;34m.\u001b[0m\u001b[0mupdate\u001b[0m\u001b[0;34m(\u001b[0m\u001b[0;34m{\u001b[0m\u001b[0mk\u001b[0m\u001b[0;34m.\u001b[0m\u001b[0mencode\u001b[0m\u001b[0;34m(\u001b[0m\u001b[0;34m'utf-8'\u001b[0m\u001b[0;34m)\u001b[0m\u001b[0;34m:\u001b[0m \u001b[0mnp\u001b[0m\u001b[0;34m.\u001b[0m\u001b[0masarray\u001b[0m\u001b[0;34m(\u001b[0m\u001b[0mv\u001b[0m\u001b[0;34m,\u001b[0m \u001b[0mdtype\u001b[0m\u001b[0;34m=\u001b[0m\u001b[0mfloat\u001b[0m\u001b[0;34m)\u001b[0m\u001b[0;34m}\u001b[0m\u001b[0;34m)\u001b[0m\u001b[0;34m\u001b[0m\u001b[0m\n\u001b[0m\u001b[1;32m    366\u001b[0m         \u001b[0;32melse\u001b[0m\u001b[0;34m:\u001b[0m\u001b[0;34m\u001b[0m\u001b[0m\n\u001b[1;32m    367\u001b[0m             \u001b[0mmsg\u001b[0m \u001b[0;34m=\u001b[0m \u001b[0;34m\"Variable {} is neither int nor float nor list/array thereof\"\u001b[0m\u001b[0;34m\u001b[0m\u001b[0m\n",
      "\u001b[0;31mAttributeError\u001b[0m: 'numpy.float64' object has no attribute 'encode'"
     ]
    }
   ],
   "source": [
    "#-- MCMC sampling\n",
    "fit = mod_slr.sampling(data=stan_dat)\n",
    "#-- Extract (Note whereas RStan uses lists, PyStan uses dictionaries)\n",
    "post = fit.extract()\n",
    "print(len(post.keys()))\n",
    "print(post)"
   ]
  },
  {
   "cell_type": "code",
   "execution_count": null,
   "metadata": {
    "collapsed": true
   },
   "outputs": [],
   "source": [
    "#-- Plot Histograms\n",
    "fig, ax = plt.subplots(4)\n",
    "#-- Beta0\n",
    "ax[0].hist()"
   ]
  },
  {
   "cell_type": "code",
   "execution_count": null,
   "metadata": {
    "collapsed": true
   },
   "outputs": [],
   "source": []
  }
 ],
 "metadata": {
  "kernelspec": {
   "display_name": "Python 3",
   "language": "python",
   "name": "python3"
  },
  "language_info": {
   "codemirror_mode": {
    "name": "ipython",
    "version": 3
   },
   "file_extension": ".py",
   "mimetype": "text/x-python",
   "name": "python",
   "nbconvert_exporter": "python",
   "pygments_lexer": "ipython3",
   "version": "3.6.0"
  }
 },
 "nbformat": 4,
 "nbformat_minor": 2
}
