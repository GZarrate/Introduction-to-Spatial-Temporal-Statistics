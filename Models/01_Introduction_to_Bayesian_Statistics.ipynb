{
 "cells": [
  {
   "cell_type": "markdown",
   "metadata": {},
   "source": [
    "# Introduction to Bayesian Statistics\n",
    "\n",
    "In these notes we introduce the basic concepts of Bayesian statistics, and highlight the key differences with the classical approach. \n",
    "\n",
    "### Linear regression from the classical perspective\n",
    "\n",
    "In these notes we consider the *simple linear regression* which refers to a linear regression model with only a single predictor, or input variable $x$, a single output variable $y$, and Gaussian distributed model errors. The model is written as follows\n",
    "\n",
    "$$ y = \\beta_0 + \\beta_1x + \\epsilon, $$\n",
    "\n",
    "where $\\beta_0$ and $\\beta_1$ are the parameters and $\\epsilon$ is a Gaussian variable with zero mean and variance $\\sigma^2$, also written as $\\epsilon \\sim N(0,\\sigma^2)$. In the classical approach we estimate the parameters of the model via maximum likelihood, which has the familiar closed form solution for the best fitting parameters\n",
    "\n",
    "$$ \\hat{\\mathbf{\\beta}} = (X'X)^{-1}X'y  $$\n",
    "\n",
    "with \n",
    "\n",
    "$$ \\hat{\\sigma^2} = \\frac{1}{N-1} \\sum_{i=1}^{N} (y_i - \\hat{\\beta_0} + \\hat{\\beta_1}x_i)^2  $$\n",
    "\n",
    "and 'standard error'\n",
    "\n",
    "$$  se(\\mathbf{\\beta}) = \\frac{\\hat{\\sigma}}{\\sum_{i=1}^N (x_i - \\bar{x})^2}.$$\n",
    "\n",
    "PLACEHOLDER: hypothesis test\n",
    "\n",
    "### Linear regression from the Bayesian perspective\n",
    "\n",
    "We can write the same model in hierarchical Bayesian form\n",
    "\n",
    "$$ p(y | x, \\beta) \\sim N(\\beta_0 + \\beta_1x,\\sigma^2) $$\n",
    "\n",
    "$$ p(\\beta_0) \\sim uniform(a_1,b_1) $$\n",
    "\n",
    "$$ p(\\beta_1) \\sim uniform(a_2,b_2) $$\n",
    "\n",
    "and fit the model in Stan.\n",
    "\n",
    "## The influence and uses of priors\n",
    "\n",
    "To demonstrate the utility of priors, we now consider a hypothetical scientific scenario. We consider the case where we have some previous knowledge about the key model parameter $\\beta_1$. For example, a previous study may have used a dataset from another area in the world and you'd like to update the value of the parameter using the new data from California. Or perhaps there is chemical theory that predicts what the value should be. In the case of the former, let's assume a previous study has estimate the value as $\\beta_1 = 5x10^{-3},$ with $se(\\beta_1) = 1x10^{-3}$. We specify this as a prior in the Stan code and define a new model *SLR_prior*. \n",
    "\n"
   ]
  },
  {
   "cell_type": "code",
   "execution_count": null,
   "metadata": {
    "collapsed": true
   },
   "outputs": [],
   "source": [
    "SLR <- \"data{\n",
    "\tint N; \t\t\t//length of dataset\n",
    "\tvector[N] y;\t//response observations\n",
    "\tvector[N] x;\t//input observations\n",
    "}\n",
    "parameters{\n",
    "\treal beta0;\n",
    "\treal beta1;\n",
    "\treal<lower=0> sigma;\n",
    "}\n",
    "model{\n",
    "\tbeta0 ~ uniform(-1,1);\t\t\t\t//prior on beta0, uniform density on (-1,1)\n",
    "\tbeta1 ~ uniform(-1,1);\t\t\t\t//prior on beta1\n",
    "\ty ~ normal(beta0 + beta1*x, sigma);\t//likelihood model; p(y|x,beta0,beta1,sigma) ~ Gaussian \n",
    "}\n",
    "generated quantities{\n",
    "\tvector[N] y_pred;     //predictive distribution\n",
    "\tvector[N] log_lik;    //marginal log likelihood for model comparison later on\n",
    "\n",
    "\tfor (i in 1:N)\n",
    "\t\ty_pred[i] = beta0 + beta1*x[i]; //generate prediction for y within MCMC step for parameters\n",
    "\tfor (i in 1:N)\n",
    "\t\tlog_lik[i] = normal_lpdf(y[i] | beta0 + beta1*x[i], sigma);  //compute marginal log-likelihood within MCMC\n",
    "}\""
   ]
  },
  {
   "cell_type": "code",
   "execution_count": null,
   "metadata": {
    "collapsed": true
   },
   "outputs": [],
   "source": [
    "SLR_prior <- \"data{\n",
    "\tint N; \t\t\t//length of dataset\n",
    "\tvector[N] y;\t//response observations\n",
    "\tvector[N] x;\t//input observations\n",
    "}\n",
    "parameters{\n",
    "\treal beta0;\n",
    "\treal beta1;\n",
    "\treal<lower=0> sigma;\n",
    "}\n",
    "model{\n",
    "\tbeta0 ~ uniform(-1,1);                  //prior on beta0, uniform density on (-1,1)\n",
    "\tbeta1 ~ normal(1E-4,0.5E-4);              //prior on beta1\n",
    "\ty ~ normal(beta0 + beta1*x, sigma);\t    //likelihood model; p(y|x,beta0,beta1,sigma) ~ Gaussian \n",
    "}\n",
    "generated quantities{\n",
    "\tvector[N] y_pred;     //predictive distribution\n",
    "\tvector[N] log_lik;    //marginal log likelihood for model comparison later on\n",
    "\n",
    "\tfor (i in 1:N)\n",
    "\t\ty_pred[i] = beta0 + beta1*x[i];                              //generate prediction for y within MCMC step for parameters\n",
    "\tfor (i in 1:N)\n",
    "\t\tlog_lik[i] = normal_lpdf(y[i] | beta0 + beta1*x[i], sigma);  //compute marginal log-likelihood within MCMC\n",
    "}\""
   ]
  },
  {
   "cell_type": "code",
   "execution_count": null,
   "metadata": {
    "collapsed": true
   },
   "outputs": [],
   "source": [
    "library(rstan)                                #load package\n",
    "rstan_options(auto_write=TRUE)                # \n",
    "options(mc.cores = parallel::detectCores())   #allows stan to utilize multiple cores"
   ]
  },
  {
   "cell_type": "code",
   "execution_count": null,
   "metadata": {
    "collapsed": true
   },
   "outputs": [],
   "source": [
    "mod_slr        <- stan_model(model_code=SLR)        #compile the C++ program\n",
    "mod_slr_prior  <- stan_model(model_code=SLR_prior)        #compile the C++ program"
   ]
  },
  {
   "cell_type": "code",
   "execution_count": null,
   "metadata": {
    "collapsed": true
   },
   "outputs": [],
   "source": [
    "datmp  <- read.csv('D:/Dropbox/Teaching/Bayes/DSI/data/ozone_Riverside_epa.csv')    #read data as .csv file\n",
    "datmp  <- datmp[complete.cases(cbind(datmp$temp,datmp$Arithmetic.Mean)),]           #subset for ozone and temperature columns\n",
    "stan_dat <- list(y=datmp$Arithmetic.Mean[1:200], x=datmp$temp[1:200], N=200)        #subsample larger dataset into a dataframe for stan"
   ]
  },
  {
   "cell_type": "code",
   "execution_count": null,
   "metadata": {
    "collapsed": true
   },
   "outputs": [],
   "source": [
    "fit_slr_prior  <- sampling(mod_slr_prior, data=stan_dat)  #MCMC sampling\n",
    "post_slr_prior <- extract(fit_slr_prior)  "
   ]
  },
  {
   "cell_type": "code",
   "execution_count": null,
   "metadata": {
    "collapsed": true
   },
   "outputs": [],
   "source": [
    "par(mfrow=c(2,2))\n",
    "plot(seq(-0.05,0.05,length.out=10), rep(0.5,10),type='l',ylim=c(0,4),ylab='',xlab='beta0',bty='n',main='beta0') \n",
    "    par(new=TRUE)\n",
    "    hist(post_slr_prior$beta0,xlim=c(-0.05,0.05),main='',xlab='',ylab='',xaxt='n',yaxt='n',bty='n',col=adjustcolor('black',alpha.f=0.5),bty='n',xaxt='n',yaxt='n')\n",
    "    abline(v=0,lty=2)\n",
    "\n",
    "##-Plot the naive estimate-##\n",
    "    par(new=TRUE)\n",
    "    hist(post$beta0,xlim=c(-0.05,0.05),main='',xlab='',ylab='',xaxt='n',yaxt='n',bty='n')\n",
    "\n",
    "plot(seq(-0.00075,0.00075,length.out=10), rep(0.5,10),type='l',ylim=c(0,4),bty='n',ylab='',xlab='beta1',main='beta1')\n",
    "\tpar(new=TRUE)\n",
    "    hist(post_slr_prior$beta1,xlim=c(-0.00075,0.00075),main='',xlab='',ylab='',xaxt='n',yaxt='n',bty='n',col=adjustcolor('black',alpha.f=0.5))\n",
    "\tabline(v=0,lty=2)\n",
    "\n",
    "##-Plot the prior-##\n",
    "    par(new=TRUE)\n",
    "    x <- seq(-0.00075,0.00075,length.out=1000)\n",
    "    plot(x,dnorm(x,mean=1E-4,sd=0.5E-4),type='l',lwd=2,bty='n',xaxt='n',yaxt='n',ylab='',xlab='')\n",
    "##-Plot the naive estimate-##\n",
    "\tpar(new=TRUE)\n",
    "    hist(post$beta1,xlim=c(-0.00075,0.00075),main='',xlab='',ylab='',xaxt='n',yaxt='n',bty='n',xaxt='n',yaxt='n')\n",
    "\n",
    "plot(seq(0,0.015,length.out=10), rep(0.5,10),type='l',ylim=c(0,4),bty='n',ylab='',xlab='sigma',main='sigma')\n",
    "\tpar(new=TRUE)\n",
    "    hist(post_slr_prior$sigma,xlim=c(0,0.015),main='',xlab='',ylab='',xaxt='n',yaxt='n',bty='n',col=adjustcolor('black',alpha.f=0.5))\n",
    "\tpar(new=TRUE)\n",
    "    hist(post$sigma,xlim=c(0,0.015),main='',xlab='',ylab='',xaxt='n',yaxt='n',bty='n')\n",
    "\n",
    "plot(stan_dat$x, stan_dat$y,xlab='Temperature [F]',ylab='Ozone [umol/kg]')\n",
    "    lines(seq(30,85),quantile(post$beta0,0.05) + quantile(post$beta1,0.05)*seq(30,85),lty=2)\n",
    "    lines(seq(30,85),quantile(post$beta0,0.50) + quantile(post$beta1,0.50)*seq(30,85),lwd=2)\n",
    "    lines(seq(30,85),quantile(post$beta0,0.95) + quantile(post$beta1,0.95)*seq(30,85),lty=2)"
   ]
  }
 ],
 "metadata": {
  "kernelspec": {
   "display_name": "R",
   "language": "R",
   "name": "ir"
  },
  "language_info": {
   "codemirror_mode": "r",
   "file_extension": ".r",
   "mimetype": "text/x-r-source",
   "name": "R",
   "pygments_lexer": "r",
   "version": "3.3.2"
  }
 },
 "nbformat": 4,
 "nbformat_minor": 0
}
