{
 "cells": [
  {
   "cell_type": "markdown",
   "metadata": {},
   "source": [
    "# Introduction to Temporal Dependence\n",
    "The simplest demonstration of temporal dependence is seen by considering a univariate time series $y(t)$. In our case, $y(t)$ may be the surface-level atmsopheric concentration of ozone at a single EPA air-quality station in Orange County. Below we generate data from the following model\n",
    "\n",
    "$$ y(t+1) = y_0 + \\alpha y(t) + e(t)$$\n",
    "\n",
    "where $y_0$ is the background mean ozone, $\\alpha$ is "
   ]
  },
  {
   "cell_type": "code",
   "execution_count": 289,
   "metadata": {
    "collapsed": false
   },
   "outputs": [
    {
     "data": {
      "image/png": "[encoded data removed]",
      "text/plain": [
       "plot without title"
      ]
     },
     "metadata": {},
     "output_type": "display_data"
    }
   ],
   "source": [
    "rm(list=ls())\n",
    "T        <- 365*5 \n",
    "ts       <- 1:T\n",
    "y0       <- 10\n",
    "a        <- 0.95\n",
    "s        <- 5\n",
    "y1=y2=y3 <- 200\n",
    "b        <- (2*pi/365)\n",
    "p        <- 2*sin(b*(1:T))\n",
    "\n",
    "for(i in 2:T){\n",
    "   y1tp1 <- y0    + a*y1[i-1] + p[i] + rnorm(1,0,s) \n",
    "   y2tp1 <- y2[1] +             p[i] + rnorm(1,0,s)   \n",
    "   y3tp1 <- y3[1]                    + rnorm(1,0,s)\n",
    "   y1    <- c(y1,y1tp1)\n",
    "   y2    <- c(y2,y2tp1)\n",
    "   y3    <- c(y3,y3tp1) \n",
    "}\n",
    "\n",
    "options(repr.plot.width=9, repr.plot.height=2.5)\n",
    "par(mfrow=c(1,3),mar=c(3,4,3,1),cex.axis=0.95)\n",
    "plot(y1,type='l')\n",
    "plot(y2,type='l')\n",
    "plot(y3,type='l')"
   ]
  },
  {
   "cell_type": "markdown",
   "metadata": {},
   "source": [
    "# Periodicity"
   ]
  },
  {
   "cell_type": "code",
   "execution_count": 290,
   "metadata": {
    "collapsed": false
   },
   "outputs": [
    {
     "data": {
      "text/html": [
       "<table>\n",
       "<tbody>\n",
       "\t<tr><td>Correlation of y1 with the seasonal period =  0.81936</td></tr>\n",
       "</tbody>\n",
       "</table>\n"
      ],
      "text/latex": [
       "\\begin{tabular}{l}\n",
       "\t Correlation of y1 with the seasonal period =  0.81936\\\\\n",
       "\\end{tabular}\n"
      ],
      "text/markdown": [
       "\n",
       "| Correlation of y1 with the seasonal period =  0.81936 | \n",
       "\n",
       "\n"
      ],
      "text/plain": [
       "     [,1]                                                 \n",
       "[1,] Correlation of y1 with the seasonal period =  0.81936"
      ]
     },
     "metadata": {},
     "output_type": "display_data"
    },
    {
     "data": {
      "image/png": "[encoded data removed]",
      "text/plain": [
       "plot without title"
      ]
     },
     "metadata": {},
     "output_type": "display_data"
    }
   ],
   "source": [
    "options(repr.plot.width=9, repr.plot.height=2.5)\n",
    "par(mfrow=c(1,3),mar=c(3,4,3,1),cex.axis=0.95)\n",
    "plot(p,type='l',ylab='p(t)',lwd=2)\n",
    "plot(p,y1-mean(y1),pch=19)\n",
    "matrix(paste('Correlation of y1 with the seasonal period = ',round(cor(p,y1-mean(y1)),5)))"
   ]
  },
  {
   "cell_type": "code",
   "execution_count": 291,
   "metadata": {
    "collapsed": false
   },
   "outputs": [
    {
     "data": {
      "text/html": [
       "<table>\n",
       "<thead><tr><th></th><th scope=col>Estimate</th><th scope=col>Std. Error</th></tr></thead>\n",
       "<tbody>\n",
       "\t<tr><th scope=row>(Intercept)</th><td>200.593443</td><td>0.3804235 </td></tr>\n",
       "\t<tr><th scope=row>sin(b * ts)</th><td> 33.594192</td><td>0.5380001 </td></tr>\n",
       "\t<tr><th scope=row>cos(b * ts)</th><td> -5.008928</td><td>0.5380001 </td></tr>\n",
       "</tbody>\n",
       "</table>\n"
      ],
      "text/latex": [
       "\\begin{tabular}{r|ll}\n",
       "  & Estimate & Std. Error\\\\\n",
       "\\hline\n",
       "\t(Intercept) & 200.593443 & 0.3804235 \\\\\n",
       "\tsin(b * ts) &  33.594192 & 0.5380001 \\\\\n",
       "\tcos(b * ts) &  -5.008928 & 0.5380001 \\\\\n",
       "\\end{tabular}\n"
      ],
      "text/markdown": [
       "\n",
       "| <!--/--> | Estimate | Std. Error | \n",
       "|---|---|---|\n",
       "| (Intercept) | 200.593443 | 0.3804235  | \n",
       "| sin(b * ts) |  33.594192 | 0.5380001  | \n",
       "| cos(b * ts) |  -5.008928 | 0.5380001  | \n",
       "\n",
       "\n"
      ],
      "text/plain": [
       "            Estimate   Std. Error\n",
       "(Intercept) 200.593443 0.3804235 \n",
       "sin(b * ts)  33.594192 0.5380001 \n",
       "cos(b * ts)  -5.008928 0.5380001 "
      ]
     },
     "metadata": {},
     "output_type": "display_data"
    },
    {
     "data": {
      "text/html": [
       "<table>\n",
       "<thead><tr><th></th><th scope=col>Estimate</th><th scope=col>Std. Error</th></tr></thead>\n",
       "<tbody>\n",
       "\t<tr><th scope=row>(Intercept)</th><td>200.0455207</td><td>0.1174658  </td></tr>\n",
       "\t<tr><th scope=row>sin(b * ts)</th><td>  2.0290158</td><td>0.1661218  </td></tr>\n",
       "\t<tr><th scope=row>cos(b * ts)</th><td> -0.2023968</td><td>0.1661218  </td></tr>\n",
       "</tbody>\n",
       "</table>\n"
      ],
      "text/latex": [
       "\\begin{tabular}{r|ll}\n",
       "  & Estimate & Std. Error\\\\\n",
       "\\hline\n",
       "\t(Intercept) & 200.0455207 & 0.1174658  \\\\\n",
       "\tsin(b * ts) &   2.0290158 & 0.1661218  \\\\\n",
       "\tcos(b * ts) &  -0.2023968 & 0.1661218  \\\\\n",
       "\\end{tabular}\n"
      ],
      "text/markdown": [
       "\n",
       "| <!--/--> | Estimate | Std. Error | \n",
       "|---|---|---|\n",
       "| (Intercept) | 200.0455207 | 0.1174658   | \n",
       "| sin(b * ts) |   2.0290158 | 0.1661218   | \n",
       "| cos(b * ts) |  -0.2023968 | 0.1661218   | \n",
       "\n",
       "\n"
      ],
      "text/plain": [
       "            Estimate    Std. Error\n",
       "(Intercept) 200.0455207 0.1174658 \n",
       "sin(b * ts)   2.0290158 0.1661218 \n",
       "cos(b * ts)  -0.2023968 0.1661218 "
      ]
     },
     "metadata": {},
     "output_type": "display_data"
    },
    {
     "data": {
      "text/html": [
       "<table>\n",
       "<thead><tr><th></th><th scope=col>Estimate</th><th scope=col>Std. Error</th></tr></thead>\n",
       "<tbody>\n",
       "\t<tr><th scope=row>(Intercept)</th><td>200.15133334</td><td>0.1179109   </td></tr>\n",
       "\t<tr><th scope=row>sin(b * ts)</th><td> -0.31665506</td><td>0.1667511   </td></tr>\n",
       "\t<tr><th scope=row>cos(b * ts)</th><td>  0.07228633</td><td>0.1667511   </td></tr>\n",
       "</tbody>\n",
       "</table>\n"
      ],
      "text/latex": [
       "\\begin{tabular}{r|ll}\n",
       "  & Estimate & Std. Error\\\\\n",
       "\\hline\n",
       "\t(Intercept) & 200.15133334 & 0.1179109   \\\\\n",
       "\tsin(b * ts) &  -0.31665506 & 0.1667511   \\\\\n",
       "\tcos(b * ts) &   0.07228633 & 0.1667511   \\\\\n",
       "\\end{tabular}\n"
      ],
      "text/markdown": [
       "\n",
       "| <!--/--> | Estimate | Std. Error | \n",
       "|---|---|---|\n",
       "| (Intercept) | 200.15133334 | 0.1179109    | \n",
       "| sin(b * ts) |  -0.31665506 | 0.1667511    | \n",
       "| cos(b * ts) |   0.07228633 | 0.1667511    | \n",
       "\n",
       "\n"
      ],
      "text/plain": [
       "            Estimate     Std. Error\n",
       "(Intercept) 200.15133334 0.1179109 \n",
       "sin(b * ts)  -0.31665506 0.1667511 \n",
       "cos(b * ts)   0.07228633 0.1667511 "
      ]
     },
     "metadata": {},
     "output_type": "display_data"
    }
   ],
   "source": [
    "fity1 <- lm(y1 ~ sin(b*ts) + cos(b*ts)); summary(fity1)$coefficients[,1:2]\n",
    "fity2 <- lm(y2 ~ sin(b*ts) + cos(b*ts)); summary(fity2)$coefficients[,1:2]\n",
    "fity3 <- lm(y3 ~ sin(b*ts) + cos(b*ts)); summary(fity3)$coefficients[,1:2]"
   ]
  },
  {
   "cell_type": "markdown",
   "metadata": {},
   "source": [
    "# The Autocorrelation/Autocovariance Function"
   ]
  },
  {
   "cell_type": "code",
   "execution_count": 292,
   "metadata": {
    "collapsed": false
   },
   "outputs": [
    {
     "data": {
      "image/png": "[encoded data removed]",
      "text/plain": [
       "Plot with title \"\""
      ]
     },
     "metadata": {},
     "output_type": "display_data"
    }
   ],
   "source": [
    "options(repr.plot.width=9, repr.plot.height=5)\n",
    "par(mfrow=c(2,3),mar=c(3,4,3,1),cex.axis=0.95)\n",
    "acf(y1,lag.max=T,main='',ci=0,ylab='Autocorrelation function'); mtext('y1')\n",
    "acf(y2,lag.max=T,main='',ci=0,ylab=''); mtext('y2')\n",
    "acf(y3,lag.max=T,main='',ci=0,ylab=''); mtext('y3')\n",
    "acf(y1,lag.max=T,main='',ci=0); mtext('Autocovariance function')\n",
    "acf(y2,lag.max=T,main='',ci=0); mtext('')\n",
    "acf(y3,lag.max=T,main='',ci=0); mtext('')"
   ]
  },
  {
   "cell_type": "markdown",
   "metadata": {},
   "source": [
    " # Time Series Decomposition and Trend Analysis"
   ]
  },
  {
   "cell_type": "code",
   "execution_count": 293,
   "metadata": {
    "collapsed": false
   },
   "outputs": [
    {
     "data": {
      "image/png": "[encoded data removed]",
      "text/plain": [
       "plot without title"
      ]
     },
     "metadata": {},
     "output_type": "display_data"
    }
   ],
   "source": [
    "T  <- 365*5   #[days]\n",
    "y0 <- 10      #[x/x]\n",
    "a  <- 0.95\n",
    "s  <- 10\n",
    "yt <- 200\n",
    "e  <- 0\n",
    "b  <- (2*pi/365)\n",
    "p  <- 2*sin(b*(1:T))\n",
    "bt <- 0.1 \n",
    "\n",
    "for(t in 2:T){\n",
    "   etp1 <- a*e[t-1] + rnorm(1,0,s)\n",
    "   ytp1 <- yt[1] + bt*t + p[t] + etp1  \n",
    "   yt   <- c(yt,ytp1)\n",
    "   e    <- c(e,etp1)\n",
    "}\n",
    "\n",
    "options(repr.plot.width=9, repr.plot.height=2.5)\n",
    "par(mfrow=c(1,3),mar=c(3,4,3,1),cex.axis=0.95)\n",
    "plot(yt,type='l')"
   ]
  },
  {
   "cell_type": "code",
   "execution_count": 294,
   "metadata": {
    "collapsed": false
   },
   "outputs": [
    {
     "data": {
      "text/html": [
       "<table>\n",
       "<thead><tr><th></th><th scope=col>Estimate</th><th scope=col>Std. Error</th></tr></thead>\n",
       "<tbody>\n",
       "\t<tr><th scope=row>(Intercept)</th><td>208.7327107</td><td>1.319888209</td></tr>\n",
       "\t<tr><th scope=row>ts</th><td>  0.0949086</td><td>0.001255971</td></tr>\n",
       "\t<tr><th scope=row>sin(b * ts)</th><td>  0.9589584</td><td>0.935764616</td></tr>\n",
       "</tbody>\n",
       "</table>\n"
      ],
      "text/latex": [
       "\\begin{tabular}{r|ll}\n",
       "  & Estimate & Std. Error\\\\\n",
       "\\hline\n",
       "\t(Intercept) & 208.7327107 & 1.319888209\\\\\n",
       "\tts &   0.0949086 & 0.001255971\\\\\n",
       "\tsin(b * ts) &   0.9589584 & 0.935764616\\\\\n",
       "\\end{tabular}\n"
      ],
      "text/markdown": [
       "\n",
       "| <!--/--> | Estimate | Std. Error | \n",
       "|---|---|---|\n",
       "| (Intercept) | 208.7327107 | 1.319888209 | \n",
       "| ts |   0.0949086 | 0.001255971 | \n",
       "| sin(b * ts) |   0.9589584 | 0.935764616 | \n",
       "\n",
       "\n"
      ],
      "text/plain": [
       "            Estimate    Std. Error \n",
       "(Intercept) 208.7327107 1.319888209\n",
       "ts            0.0949086 0.001255971\n",
       "sin(b * ts)   0.9589584 0.935764616"
      ]
     },
     "metadata": {},
     "output_type": "display_data"
    },
    {
     "data": {
      "image/png": "[encoded data removed]",
      "text/plain": [
       "plot without title"
      ]
     },
     "metadata": {},
     "output_type": "display_data"
    }
   ],
   "source": [
    "library(nlme)\n",
    "w <- b*ts\n",
    "fityt   <- lm(yt ~ ts + sin(b*ts)); fitytp  <- summary(fityt)$coefficients[,1:2]; fitytp\n",
    "    e   <- residuals(fityt)[2:T]\n",
    "options(repr.plot.width=9, repr.plot.height=2.5)\n",
    "par(mfrow=c(1,3),mar=c(3,4,3,1),cex.axis=0.95)\n",
    "plot(fitytp[2,1]*ts,type='l',lwd=2)\n",
    "plot(fitytp[3,1]*sin(b*ts),type='l',lwd=2)\n",
    "plot(e,type='l',lwd=2)"
   ]
  },
  {
   "cell_type": "code",
   "execution_count": 295,
   "metadata": {
    "collapsed": false
   },
   "outputs": [
    {
     "data": {
      "text/html": [
       "<table>\n",
       "<thead><tr><th></th><th scope=col>Estimate</th><th scope=col>Std. Error</th></tr></thead>\n",
       "<tbody>\n",
       "\t<tr><th scope=row>(Intercept)</th><td>0.02902639 </td><td>0.229212582</td></tr>\n",
       "\t<tr><th scope=row>e[1:(t - 1)]</th><td>0.93745951 </td><td>0.008219327</td></tr>\n",
       "</tbody>\n",
       "</table>\n"
      ],
      "text/latex": [
       "\\begin{tabular}{r|ll}\n",
       "  & Estimate & Std. Error\\\\\n",
       "\\hline\n",
       "\t(Intercept) & 0.02902639  & 0.229212582\\\\\n",
       "\te{[}1:(t - 1){]} & 0.93745951  & 0.008219327\\\\\n",
       "\\end{tabular}\n"
      ],
      "text/markdown": [
       "\n",
       "| <!--/--> | Estimate | Std. Error | \n",
       "|---|---|\n",
       "| (Intercept) | 0.02902639  | 0.229212582 | \n",
       "| e[1:(t - 1)] | 0.93745951  | 0.008219327 | \n",
       "\n",
       "\n"
      ],
      "text/plain": [
       "             Estimate   Std. Error \n",
       "(Intercept)  0.02902639 0.229212582\n",
       "e[1:(t - 1)] 0.93745951 0.008219327"
      ]
     },
     "metadata": {},
     "output_type": "display_data"
    },
    {
     "data": {
      "image/png": "[encoded data removed]",
      "text/plain": [
       "Plot with title \"\""
      ]
     },
     "metadata": {},
     "output_type": "display_data"
    }
   ],
   "source": [
    "options(repr.plot.width=9, repr.plot.height=2.5)\n",
    "par(mfrow=c(1,3),mar=c(3,4,3,1),cex.axis=0.95)\n",
    "acf(e,lag.max=100,main='',ci=0)\n",
    "plot(e[1:(t-1)],e[2:T],col='grey')\n",
    "ereg <- lm(e[2:T] ~ e[1:(t-1)])\n",
    "abline(ereg,lwd=2)\n",
    "summary(ereg)$coefficients[,1:2] \n",
    "acf(e,lag.max=100,main='',ci=0)\n",
    "lines(0.94514^seq(1,100),lwd=3)"
   ]
  },
  {
   "cell_type": "markdown",
   "metadata": {},
   "source": [
    "## Importance of Detrending"
   ]
  },
  {
   "cell_type": "code",
   "execution_count": 297,
   "metadata": {
    "collapsed": false
   },
   "outputs": [
    {
     "data": {
      "image/png": "[encoded data removed]",
      "text/plain": [
       "Plot with title \"\""
      ]
     },
     "metadata": {},
     "output_type": "display_data"
    }
   ],
   "source": [
    "ytd <- yt - predict(lm(yt ~ ts))\n",
    "\n",
    "options(repr.plot.width=9, repr.plot.height=2.5)\n",
    "par(mfrow=c(1,3),mar=c(3,4,3,1),cex.axis=0.95)\n",
    "acf(yt,lag.max=T,main='',ci=0)\n",
    "acf(ytd,lag.max=T,main='',ci=0)"
   ]
  },
  {
   "cell_type": "markdown",
   "metadata": {},
   "source": [
    "# Trend Analysis"
   ]
  },
  {
   "cell_type": "code",
   "execution_count": 298,
   "metadata": {
    "collapsed": false
   },
   "outputs": [
    {
     "data": {
      "text/html": [
       "<table>\n",
       "<thead><tr><th></th><th scope=col>Estimate</th><th scope=col>Std. Error</th></tr></thead>\n",
       "<tbody>\n",
       "\t<tr><th scope=row>(Intercept)</th><td>208.7327107</td><td>1.319888209</td></tr>\n",
       "\t<tr><th scope=row>ts</th><td>  0.0949086</td><td>0.001255971</td></tr>\n",
       "\t<tr><th scope=row>sin(b * ts)</th><td>  0.9589584</td><td>0.935764616</td></tr>\n",
       "</tbody>\n",
       "</table>\n"
      ],
      "text/latex": [
       "\\begin{tabular}{r|ll}\n",
       "  & Estimate & Std. Error\\\\\n",
       "\\hline\n",
       "\t(Intercept) & 208.7327107 & 1.319888209\\\\\n",
       "\tts &   0.0949086 & 0.001255971\\\\\n",
       "\tsin(b * ts) &   0.9589584 & 0.935764616\\\\\n",
       "\\end{tabular}\n"
      ],
      "text/markdown": [
       "\n",
       "| <!--/--> | Estimate | Std. Error | \n",
       "|---|---|---|\n",
       "| (Intercept) | 208.7327107 | 1.319888209 | \n",
       "| ts |   0.0949086 | 0.001255971 | \n",
       "| sin(b * ts) |   0.9589584 | 0.935764616 | \n",
       "\n",
       "\n"
      ],
      "text/plain": [
       "            Estimate    Std. Error \n",
       "(Intercept) 208.7327107 1.319888209\n",
       "ts            0.0949086 0.001255971\n",
       "sin(b * ts)   0.9589584 0.935764616"
      ]
     },
     "metadata": {},
     "output_type": "display_data"
    },
    {
     "data": {
      "text/html": [
       "<table>\n",
       "<thead><tr><th></th><th scope=col>Value</th><th scope=col>Std.Error</th></tr></thead>\n",
       "<tbody>\n",
       "\t<tr><th scope=row>(Intercept)</th><td>207.50220971</td><td>7.564156749 </td></tr>\n",
       "\t<tr><th scope=row>ts</th><td>  0.09665113</td><td>0.007164712 </td></tr>\n",
       "\t<tr><th scope=row>sin(w)</th><td>  1.42199943</td><td>5.275168334 </td></tr>\n",
       "</tbody>\n",
       "</table>\n"
      ],
      "text/latex": [
       "\\begin{tabular}{r|ll}\n",
       "  & Value & Std.Error\\\\\n",
       "\\hline\n",
       "\t(Intercept) & 207.50220971 & 7.564156749 \\\\\n",
       "\tts &   0.09665113 & 0.007164712 \\\\\n",
       "\tsin(w) &   1.42199943 & 5.275168334 \\\\\n",
       "\\end{tabular}\n"
      ],
      "text/markdown": [
       "\n",
       "| <!--/--> | Value | Std.Error | \n",
       "|---|---|---|\n",
       "| (Intercept) | 207.50220971 | 7.564156749  | \n",
       "| ts |   0.09665113 | 0.007164712  | \n",
       "| sin(w) |   1.42199943 | 5.275168334  | \n",
       "\n",
       "\n"
      ],
      "text/plain": [
       "            Value        Std.Error  \n",
       "(Intercept) 207.50220971 7.564156749\n",
       "ts            0.09665113 0.007164712\n",
       "sin(w)        1.42199943 5.275168334"
      ]
     },
     "metadata": {},
     "output_type": "display_data"
    },
    {
     "data": {
      "text/html": [
       "<table>\n",
       "<tbody>\n",
       "\t<tr><td>Phi estimate =  0.94021</td></tr>\n",
       "</tbody>\n",
       "</table>\n"
      ],
      "text/latex": [
       "\\begin{tabular}{l}\n",
       "\t Phi estimate =  0.94021\\\\\n",
       "\\end{tabular}\n"
      ],
      "text/markdown": [
       "\n",
       "| Phi estimate =  0.94021 | \n",
       "\n",
       "\n"
      ],
      "text/plain": [
       "     [,1]                   \n",
       "[1,] Phi estimate =  0.94021"
      ]
     },
     "metadata": {},
     "output_type": "display_data"
    },
    {
     "data": {
      "image/png": "[encoded data removed]",
      "text/plain": [
       "plot without title"
      ]
     },
     "metadata": {},
     "output_type": "display_data"
    }
   ],
   "source": [
    "fitytar <- gls(yt  ~ ts + sin(w), correlation = corAR1()); fitytarp <- summary(fitytar)$tTable[,1:2]; fitytp; fitytarp\n",
    "    ear <- as.numeric(residuals(fitytar)); ear <- ear[-1]\n",
    "    phi <- as.numeric(coef(fitytar$modelStruct$corStruct,unconstrained=FALSE)); matrix(paste('Phi estimate = ',round(phi,5)))\n",
    "    ear <- ear[2:T] - phi*ear[1:(T-1)]\n",
    "\n",
    "options(repr.plot.width=9, repr.plot.height=2.5)\n",
    "par(mfrow=c(1,3),mar=c(3,4,3,1),cex.axis=0.95)\n",
    "plot(fitytarp[2,1]*ts,type='l',lwd=2)\n",
    "plot(fitytarp[3,1]*sin(b*ts),type='l',lwd=2)\n",
    "plot(ear,type='l',lwd=2)"
   ]
  },
  {
   "cell_type": "code",
   "execution_count": null,
   "metadata": {
    "collapsed": true
   },
   "outputs": [],
   "source": []
  }
 ],
 "metadata": {
  "anaconda-cloud": {},
  "kernelspec": {
   "display_name": "R",
   "language": "R",
   "name": "ir"
  },
  "language_info": {
   "codemirror_mode": "r",
   "file_extension": ".r",
   "mimetype": "text/x-r-source",
   "name": "R",
   "pygments_lexer": "r",
   "version": "3.3.2"
  }
 },
 "nbformat": 4,
 "nbformat_minor": 0
}
