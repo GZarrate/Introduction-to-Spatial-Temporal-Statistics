{
 "cells": [
  {
   "cell_type": "code",
   "execution_count": 1,
   "metadata": {
    "collapsed": true
   },
   "outputs": [],
   "source": [
    "SLR <- \"data{\n",
    "\tint N; \t\t\t//length of dataset\n",
    "\tvector[N] y;\t//response observations\n",
    "\tvector[N] x;\t//input observations\n",
    "}\n",
    "parameters{\n",
    "\treal beta0;\n",
    "\treal beta1;\n",
    "\treal<lower=0> sigma;\n",
    "}\n",
    "model{\n",
    "\tbeta0 ~ uniform(-1,1);\t\t\t\t//prior on beta0\n",
    "\tbeta1 ~ uniform(-1,1);\t\t\t\t//prior on beta1\n",
    "\ty ~ normal(beta0 + beta1*x, sigma);\t//likelihood model\n",
    "}\n",
    "generated quantities{\n",
    "\tvector[N] y_pred;\n",
    "//\tvector[N] log_lik;\n",
    "\n",
    "\tfor (i in 1:N)\n",
    "\t\ty_pred[i] = beta0 + beta1*x[i];\n",
    "\t// Marginal log likelihood\n",
    "\t//for (i in 1:N)\n",
    "\t//\tlog_lik[i] = normal_lpdf(y[i] | beta0 + beta1*x[i], sigma);\n",
    "}\""
   ]
  },
  {
   "cell_type": "code",
   "execution_count": 2,
   "metadata": {
    "collapsed": false
   },
   "outputs": [
    {
     "name": "stderr",
     "output_type": "stream",
     "text": [
      "Loading required package: ggplot2\n",
      "Loading required package: StanHeaders\n",
      "rstan (Version 2.14.1, packaged: 2016-12-28 14:55:41 UTC, GitRev: 5fa1e80eb817)\n",
      "For execution on a local, multicore CPU with excess RAM we recommend calling\n",
      "rstan_options(auto_write = TRUE)\n",
      "options(mc.cores = parallel::detectCores())\n"
     ]
    }
   ],
   "source": [
    "library(rstan)\n",
    "rstan_options(auto_write = TRUE)\n",
    "options(mc.cores = parallel::detectCores())"
   ]
  },
  {
   "cell_type": "code",
   "execution_count": 3,
   "metadata": {
    "collapsed": true
   },
   "outputs": [],
   "source": [
    "mod_slr  <- stan_model('D:/Dropbox/Teaching/Bayes/DSI/code/simple_linear_regression.stan')"
   ]
  },
  {
   "cell_type": "code",
   "execution_count": 4,
   "metadata": {
    "collapsed": false
   },
   "outputs": [
    {
     "data": {
      "image/png": "[encoded data removed]",
      "text/plain": [
       "Plot with title \"\""
      ]
     },
     "metadata": {},
     "output_type": "display_data"
    }
   ],
   "source": [
    "datmp  <- read.csv('D:/Dropbox/Teaching/Bayes/DSI/data/ozone_Riverside_epa.csv')\n",
    "datmp  <- datmp[complete.cases(cbind(datmp$temp,datmp$Arithmetic.Mean)),]\n",
    "\n",
    "stan_dat <- list(y=datmp$Arithmetic.Mean[1:200], x=datmp$temp[1:200], N=200)\n",
    "\n",
    "fit <- sampling(mod_slr, data=stan_dat)\n",
    "post <- extract(fit)\n"
   ]
  },
  {
   "cell_type": "code",
   "execution_count": null,
   "metadata": {
    "collapsed": true
   },
   "outputs": [],
   "source": [
    "\n",
    "########################################################\n",
    "## Plots ###############################################\n",
    "########################################################\n",
    "par(mfrow=c(2,2))\n",
    "plot(seq(-0.1,0.1,length.out=10), rep(0.5,10),type='l',ylim=c(0,4),ylab='',xlab='beta0',bty='n')\n",
    "\tpar(new=TRUE); hist(post$beta0,xlim=c(-0.1,0.1),main='',xlab='',ylab='',xaxt='n',yaxt='n',bty='n')\n",
    "\tabline(v=0,lty=2)\n",
    "plot(seq(-0.001,0.001,length.out=10), rep(0.5,10),type='l',ylim=c(0,4),bty='n',ylab='',xlab='')\n",
    "\tpar(new=TRUE); hist(post$beta1,xlim=c(-0.001,0.001),main='',xlab='',ylab='',xaxt='n',yaxt='n',bty='n')\n",
    "\tabline(v=0,lty=2)\n",
    "plot(seq(0,0.02,length.out=10), rep(0.5,10),type='l',ylim=c(0,4),bty='n',ylab='',xlab='')\n",
    "\tpar(new=TRUE); hist(post$sigma,xlim=c(0,0.02),main='',xlab='',ylab='',xaxt='n',yaxt='n',bty='n')\n",
    "plot(stan_dat$x, stan_dat$y,ylab='y',xlab='x')\n",
    "lines(seq(30,85),quantile(post$beta0,0.05) + quantile(post$beta1,0.05)*seq(30,85),lty=2)\n",
    "lines(seq(30,85),quantile(post$beta0,0.50) + quantile(post$beta1,0.50)*seq(30,85),lwd=2)\n",
    "lines(seq(30,85),quantile(post$beta0,0.95) + quantile(post$beta1,0.95)*seq(30,85),lty=2)"
   ]
  },
  {
   "cell_type": "code",
   "execution_count": null,
   "metadata": {
    "collapsed": true
   },
   "outputs": [],
   "source": []
  }
 ],
 "metadata": {
  "anaconda-cloud": {},
  "kernelspec": {
   "display_name": "R",
   "language": "R",
   "name": "ir"
  },
  "language_info": {
   "codemirror_mode": "r",
   "file_extension": ".r",
   "mimetype": "text/x-r-source",
   "name": "R",
   "pygments_lexer": "r",
   "version": "3.3.2"
  }
 },
 "nbformat": 4,
 "nbformat_minor": 0
}
