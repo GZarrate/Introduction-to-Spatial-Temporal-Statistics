{
 "cells": [
  {
   "cell_type": "markdown",
   "metadata": {},
   "source": [
    "# Introduction to Environmental Statistics"
   ]
  },
  {
   "cell_type": "markdown",
   "metadata": {},
   "source": [
    "Welcome to the Introduction to Enviromental Statistics workshop!"
   ]
  },
  {
   "cell_type": "markdown",
   "metadata": {},
   "source": [
    "Knowledge requirements:\n",
    "    An introductory knowledge of either R or Python is required for the exercises, and a background with either at least one statistics course, or some experience analyzing environmental data, is also recommended. "
   ]
  },
  {
   "cell_type": "markdown",
   "metadata": {},
   "source": [
    "For this workshop we use Jupyter notebooks, which provides a convenient way to share scripts and run them right in the notebook! Jupyter notebooks comes autoamtically with the Anaconda python platform. Download the latest version here: https://www.continuum.io/downloads and follow the instructions to install.\n",
    "\n",
    "Note that Anaconda comes with the Python kernel, but if you are using R, you also need to install the R kernel. For this, go to command line and type"
   ]
  },
  {
   "cell_type": "markdown",
   "metadata": {
    "collapsed": true
   },
   "source": [
    "conda install -c r r-essentials"
   ]
  },
  {
   "cell_type": "markdown",
   "metadata": {},
   "source": [
    "Once you have installed Jupyter notebook and the required kernel, you can run it my simply running"
   ]
  },
  {
   "cell_type": "markdown",
   "metadata": {
    "collapsed": true
   },
   "source": [
    "jupyter notebook"
   ]
  },
  {
   "cell_type": "markdown",
   "metadata": {},
   "source": [
    "in command line."
   ]
  },
  {
   "cell_type": "markdown",
   "metadata": {},
   "source": [
    "NOTE if in Windows, use the Anaconda prompt, instead of command prompt."
   ]
  },
  {
   "cell_type": "markdown",
   "metadata": {},
   "source": [
    "You can switch between kernels using the 'Kernel' ->  'Change kernel' from the top menu bar."
   ]
  },
  {
   "cell_type": "markdown",
   "metadata": {},
   "source": [
    "# Python Requirements"
   ]
  },
  {
   "cell_type": "markdown",
   "metadata": {},
   "source": [
    "Most required packages such as numpy, pandas, and matplotlib come with the Anaconda installation. However, you also need the rpy2 and statsmodels packages. You can use the Conda command in command-line to install these:"
   ]
  },
  {
   "cell_type": "markdown",
   "metadata": {
    "collapsed": true
   },
   "source": [
    "conda install rpy2\n",
    "conda install statsmodels"
   ]
  },
  {
   "cell_type": "markdown",
   "metadata": {},
   "source": [
    "# R Requirements"
   ]
  },
  {
   "cell_type": "markdown",
   "metadata": {
    "collapsed": true
   },
   "source": [
    "At R command prompt, type"
   ]
  },
  {
   "cell_type": "markdown",
   "metadata": {},
   "source": [
    "install.packages(c(‘nlme’, ‘fields’, ‘geoR’))"
   ]
  },
  {
   "cell_type": "markdown",
   "metadata": {},
   "source": [
    "# Course Schedule"
   ]
  },
  {
   "cell_type": "markdown",
   "metadata": {},
   "source": [
    "| Time          | Session                                                                   |\n",
    "| ------------- |:-------------------------------------------------------------------------:|\n",
    "| 9:00 - 9:30   |   |\n",
    "| 9:30 - 10:30  |                                  |\n",
    "| 10:30 - 10:45 | Cofee Break                                |\n",
    "| 10:45 - 12:30 |  |\n",
    "| 12:30 - 1:00  | Lunch      |\n",
    "| 1:00 - 2:45   |  |\n",
    "| 2:45 - 3:00   | Break |\n",
    "| 3:00 - 5:00   |       |\n"
   ]
  },
  {
   "cell_type": "code",
   "execution_count": null,
   "metadata": {
    "collapsed": true
   },
   "outputs": [],
   "source": []
  }
 ],
 "metadata": {
  "kernelspec": {
   "display_name": "Python 2",
   "language": "python",
   "name": "python2"
  },
  "language_info": {
   "codemirror_mode": {
    "name": "ipython",
    "version": 2
   },
   "file_extension": ".py",
   "mimetype": "text/x-python",
   "name": "python",
   "nbconvert_exporter": "python",
   "pygments_lexer": "ipython2",
   "version": "2.7.13"
  }
 },
 "nbformat": 4,
 "nbformat_minor": 2
}
