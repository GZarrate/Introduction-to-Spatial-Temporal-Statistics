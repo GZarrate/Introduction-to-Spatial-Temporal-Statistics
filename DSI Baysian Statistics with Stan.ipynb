{
 "cells": [
  {
   "cell_type": "markdown",
   "metadata": {},
   "source": [
    "# Baysian Statistics with Stan in R and Python"
   ]
  },
  {
   "cell_type": "markdown",
   "metadata": {},
   "source": [
    "Welcome to the Environmental Baysian Statistics course! We will utilize the STAN package in Python and R to perform spatio-temporal statistics."
   ]
  },
  {
   "cell_type": "code",
   "execution_count": 1,
   "metadata": {
    "collapsed": true
   },
   "outputs": [],
   "source": [
    "#-- Import Packages\n",
    "import pystan\n",
    "import numpy as np"
   ]
  },
  {
   "cell_type": "code",
   "execution_count": 2,
   "metadata": {
    "collapsed": true
   },
   "outputs": [],
   "source": [
    "#-- Define a model: Normal Distribution with average mu and std 1.\n",
    "Nmod = \"\"\"\n",
    "data {\n",
    "    int<lower=1> N;\n",
    "    real y[N];\n",
    "}\n",
    "parameters {\n",
    "    real mu;\n",
    "}\n",
    "model {\n",
    "    y ~ normal(mu, 1);\n",
    "}\n",
    "\"\"\""
   ]
  },
  {
   "cell_type": "code",
   "execution_count": 3,
   "metadata": {
    "collapsed": false
   },
   "outputs": [
    {
     "name": "stderr",
     "output_type": "stream",
     "text": [
      "INFO:pystan:COMPILING THE C++ CODE FOR MODEL anon_model_3aaa1aff3be33470f8a5bfa56085d51c NOW.\n"
     ]
    }
   ],
   "source": [
    "#-- Now implement the model.\n",
    "mod = pystan.StanModel(model_code=Nmod)"
   ]
  },
  {
   "cell_type": "code",
   "execution_count": 4,
   "metadata": {
    "collapsed": false
   },
   "outputs": [
    {
     "name": "stdout",
     "output_type": "stream",
     "text": [
      "-0.0368558438806\n"
     ]
    }
   ],
   "source": [
    "#-- Create a random sample of 30 points from a flat distribution.\n",
    "sample = np.random.normal(size=20)\n",
    "print(sample.mean())"
   ]
  },
  {
   "cell_type": "code",
   "execution_count": 5,
   "metadata": {
    "collapsed": false
   },
   "outputs": [
    {
     "name": "stdout",
     "output_type": "stream",
     "text": [
      "OrderedDict([('mu', array(-0.036855843880556405))])\n"
     ]
    }
   ],
   "source": [
    "#-- Now we want to maximize the posterior by using teh opimizing function.\n",
    "#-- We will get the true population mean from the sample.\n",
    "population = mod.optimizing(data=dict(y=sample, N=len(sample)))\n",
    "print(population)"
   ]
  }
 ],
 "metadata": {
  "kernelspec": {
   "display_name": "Python 3",
   "language": "python",
   "name": "python3"
  },
  "language_info": {
   "codemirror_mode": {
    "name": "ipython",
    "version": 3
   },
   "file_extension": ".py",
   "mimetype": "text/x-python",
   "name": "python",
   "nbconvert_exporter": "python",
   "pygments_lexer": "ipython3",
   "version": "3.6.0"
  }
 },
 "nbformat": 4,
 "nbformat_minor": 2
}
