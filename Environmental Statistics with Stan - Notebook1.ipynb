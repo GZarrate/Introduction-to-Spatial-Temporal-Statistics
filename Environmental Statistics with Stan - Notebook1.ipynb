{
 "cells": [
  {
   "cell_type": "markdown",
   "metadata": {},
   "source": [
    "# Environmental Statistics with Stan"
   ]
  },
  {
   "cell_type": "markdown",
   "metadata": {},
   "source": [
    "Welcome to the Environmental Baysian Statistics course! We will utilize the STAN package in Python and R to perform spatio-temporal statistics."
   ]
  },
  {
   "cell_type": "markdown",
   "metadata": {},
   "source": [
    "Knowledge requirements: Basic knowedge of Python or R\n",
    "    - Reading data\n",
    "    - Matrices with data structures with metadata (e.g. dictionaries in Python)\n",
    "    - Making plots"
   ]
  },
  {
   "cell_type": "markdown",
   "metadata": {},
   "source": [
    "For this workshop we use Jupyter notebooks, which provides a convenient way to share scripts and run them right in the notebook! Jupyter notebooks comes autoamtically with the Anaconda python platform. Download the latest version here: https://www.continuum.io/downloads and follow the instructions to install.\n",
    "\n",
    "Note that Anaconda comes with the Python kernel, but if you are using R, you also need to install the R kernel. For this, go to command line and type"
   ]
  },
  {
   "cell_type": "code",
   "execution_count": null,
   "metadata": {
    "collapsed": true
   },
   "outputs": [],
   "source": [
    "conda install -c r r-essentials"
   ]
  },
  {
   "cell_type": "markdown",
   "metadata": {},
   "source": [
    "Once you have installed Jupyter notebook and the required kernel, you can run it my simply running"
   ]
  },
  {
   "cell_type": "code",
   "execution_count": null,
   "metadata": {
    "collapsed": true
   },
   "outputs": [],
   "source": [
    "jupyter notebook"
   ]
  },
  {
   "cell_type": "markdown",
   "metadata": {},
   "source": [
    "in command line. You can change the kernel between Python and R in the upper right corner. "
   ]
  },
  {
   "cell_type": "markdown",
   "metadata": {},
   "source": [
    "# Python Requirements"
   ]
  },
  {
   "cell_type": "markdown",
   "metadata": {},
   "source": [
    "The only package you need is pystan. The Python Stan package. Everything else such as numpy and matplotlib comes with the Anaconda installation. You can use the Conda command in command-line to install the package:"
   ]
  },
  {
   "cell_type": "code",
   "execution_count": null,
   "metadata": {
    "collapsed": true
   },
   "outputs": [],
   "source": [
    "sudo conda install pystan"
   ]
  },
  {
   "cell_type": "markdown",
   "metadata": {},
   "source": [
    "# R Requirements"
   ]
  },
  {
   "cell_type": "code",
   "execution_count": null,
   "metadata": {
    "collapsed": true
   },
   "outputs": [],
   "source": []
  },
  {
   "cell_type": "markdown",
   "metadata": {},
   "source": [
    "# Course Schedule"
   ]
  },
  {
   "cell_type": "markdown",
   "metadata": {},
   "source": [
    "| Time          | Session                                                                   |\n",
    "| ------------- |:-------------------------------------------------------------------------:|\n",
    "| 9:00 - 9:30   | Setting up Stan and the required packages, Github repo, Jupiter Notebook  |\n",
    "| 9:30 - 10:30  | Theory Introduction (Bayesian Statistics)                                 |\n",
    "| 10:30 - 10:45 | Cofee Break                                |\n",
    "| 10:45 - 12:30 | Introduction to STAN (in R and Python)  |\n",
    "| 12:30 - 1:00  | Lunch      |\n",
    "| 1:00 - 2:45   | Working through Example 1 + Exercises |\n",
    "| 2:45 - 3:00   | Break |\n",
    "| 3:00 - 5:00   | Working through Example 2 + Exercises |\n"
   ]
  }
 ],
 "metadata": {
  "kernelspec": {
   "display_name": "Python 3",
   "language": "python",
   "name": "python3"
  },
  "language_info": {
   "codemirror_mode": {
    "name": "ipython",
    "version": 3
   },
   "file_extension": ".py",
   "mimetype": "text/x-python",
   "name": "python",
   "nbconvert_exporter": "python",
   "pygments_lexer": "ipython3",
   "version": "3.6.0"
  }
 },
 "nbformat": 4,
 "nbformat_minor": 2
}
