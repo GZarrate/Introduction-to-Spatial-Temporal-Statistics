{
 "cells": [
  {
   "cell_type": "markdown",
   "metadata": {},
   "source": [
    "# Simple Linear Regression\n",
    "\n",
    "The name *simple linear regression* refers to a linear regression model with only a single predictor, or input variable $x$, a single output variable $y$, and Gaussian distributed model errors. The model is written as follows\n",
    "\n",
    "$$ y = \\beta_0 + \\beta_1x + \\epsilon, $$\n",
    "\n",
    "where $\\beta_0$ and $\\beta_1$ are the parameters and $\\epsilon$ is a Gaussian variable with zero mean and variance $\\sigma^2$, or $\\epsilon \\sim N(0,\\sigma^2)$. In the classical approach we estimate the parameters of the model via maximum likelihood, which has the familiar closed form solution for the best fitting parameters\n",
    "\n",
    "$$ \\hat{\\mathbf{\\beta}} = (X'X)^{-1}X'y  $$\n",
    "\n",
    "with \n",
    "\n",
    "$$ \\hat{\\sigma^2} = \\frac{1}{N-1} \\sum_{i=1}^{N} (y_i - \\hat{\\beta_0} + \\hat{\\beta_1}x_i)^2  $$\n",
    "\n",
    "and 'standard error'\n",
    "\n",
    "$$  se(\\mathbf{\\beta}) = \\frac{\\hat{\\sigma}}{\\sum_{i=1}^N (x_i - \\bar{x})^2}.$$\n",
    "\n",
    "PLACEHOLDER: hypothesis test\n",
    "\n",
    "We can write the same model in hierarchical Bayesian form\n",
    "\n",
    "$$ p(y | x, \\beta) \\sim N(\\beta_0 + \\beta_1x,\\sigma^2) $$\n",
    "\n",
    "$$ p(\\beta_0) \\sim uniform(a_1,b_1) $$\n",
    "\n",
    "$$ p(\\beta_1) \\sim uniform(a_2,b_2) $$"
   ]
  },
  {
   "cell_type": "code",
   "execution_count": 1,
   "metadata": {
    "collapsed": true
   },
   "outputs": [],
   "source": [
    "SLR = \"\"\"\n",
    "data{\n",
    "\tint N; \t\t\t//length of dataset\n",
    "\tvector[N] y;\t//response observations\n",
    "\tvector[N] x;\t//input observations\n",
    "}\n",
    "parameters{\n",
    "\treal beta0;\n",
    "\treal beta1;\n",
    "\treal<lower=0> sigma;\n",
    "}\n",
    "model{\n",
    "\tbeta0 ~ uniform(-1,1);\t\t\t\t//prior on beta0, uniform density on (-1,1)\n",
    "\tbeta1 ~ uniform(-1,1);\t\t\t\t//prior on beta1\n",
    "\ty ~ normal(beta0 + beta1*x, sigma);\t//likelihood model; p(y|x,beta0,beta1,sigma) ~ Gaussian \n",
    "}\n",
    "generated quantities{\n",
    "\tvector[N] y_pred;     //predictive distribution\n",
    "\tvector[N] log_lik;    //marginal log likelihood for model comparison later on\n",
    "\n",
    "\tfor (i in 1:N)\n",
    "\t\ty_pred[i] = beta0 + beta1*x[i];                              //generate prediction for y within MCMC step for parameters\n",
    "\tfor (i in 1:N)\n",
    "\t\tlog_lik[i] = normal_lpdf(y[i] | beta0 + beta1*x[i], sigma);  //compute marginal log-likelihood within MCMC\n",
    "}\n",
    "\"\"\""
   ]
  },
  {
   "cell_type": "code",
   "execution_count": 2,
   "metadata": {
    "collapsed": true
   },
   "outputs": [],
   "source": [
    "#-- Import Packages\n",
    "import pystan\n",
    "import os\n",
    "import numpy as np\n",
    "import matplotlib.pyplot as plt"
   ]
  },
  {
   "cell_type": "code",
   "execution_count": 3,
   "metadata": {
    "collapsed": false
   },
   "outputs": [
    {
     "name": "stderr",
     "output_type": "stream",
     "text": [
      "INFO:pystan:COMPILING THE C++ CODE FOR MODEL anon_model_0bb3b2d581d501c8780c03b2cdec4f92 NOW.\n"
     ]
    }
   ],
   "source": [
    "#-- Compile C++ model\n",
    "mod_slr = pystan.StanModel(model_code=SLR)"
   ]
  },
  {
   "cell_type": "code",
   "execution_count": 18,
   "metadata": {
    "collapsed": false
   },
   "outputs": [],
   "source": [
    "#-- Read data from csv file\n",
    "with open(os.path.expanduser('~/DSI_course.dir/data/ozone_Riverside_epa.csv')) as f:\n",
    "    content = f.readlines()\n",
    "\n",
    "#-- get indices for ozone and temperature columns.\n",
    "headers = np.array(content[0].split(\"\\\",\\\"\")) #split column headers\n",
    "temp_ind = np.squeeze(np.nonzero(headers=='temp'))\n",
    "oz_ind = np.squeeze(np.nonzero(headers=='Arithmetic.Mean'))\n",
    "\n",
    "#-- Now get the corresponding columns\n",
    "temp = []# np.zeros(len(content)-1) #initalize, skipping header line\n",
    "oz = [] #np.zeros(len(content)-1)\n",
    "for i in range(1,len(content)):\n",
    "    line = np.array(content[i].replace('\\\"','').split(',')) #split row and take out quotations\n",
    "    #-- Skip 'NA' temperatures\n",
    "    if line[temp_ind]!='NA':\n",
    "        temp.append(np.float(line[temp_ind]))\n",
    "        oz.append(np.float(line[oz_ind]))\n",
    "\n",
    "#-- Subsample larger dataset into a dictionary for stan\n",
    "stan_dat = {'N':200,'y':oz[:200],'x':temp[:200]}"
   ]
  },
  {
   "cell_type": "code",
   "execution_count": 19,
   "metadata": {
    "collapsed": false
   },
   "outputs": [
    {
     "name": "stdout",
     "output_type": "stream",
     "text": [
      "beta0: length 4000\n",
      "beta1: length 4000\n",
      "sigma: length 4000\n",
      "y_pred: length 4000\n",
      "log_lik: length 4000\n",
      "lp__: length 4000\n"
     ]
    }
   ],
   "source": [
    "#-- MCMC sampling\n",
    "fit = mod_slr.sampling(data=stan_dat)\n",
    "#fit = pystan.stan(model_code=mod_slr, data=stan_dat,iter=1000, chains=4)\n",
    "#-- Extract\n",
    "post = fit.extract()\n",
    "post_keys = post.keys()\n",
    "for k in post_keys:\n",
    "    print('%s: length %i'%(k,len(post[k])))"
   ]
  },
  {
   "cell_type": "code",
   "execution_count": 21,
   "metadata": {
    "collapsed": false
   },
   "outputs": [
    {
     "data": {
      "image/png": "[encoded data removed]",
      "text/plain": [
       "<matplotlib.figure.Figure at 0x11a79a828>"
      ]
     },
     "metadata": {},
     "output_type": "display_data"
    },
    {
     "data": {
      "image/png": "[encoded data removed]",
      "text/plain": [
       "<matplotlib.figure.Figure at 0x11a80ce48>"
      ]
     },
     "metadata": {},
     "output_type": "display_data"
    }
   ],
   "source": [
    "#-- Plot Histograms\n",
    "fig, ax = plt.subplots(4)\n",
    "#-- Beta0\n",
    "ax[0].hist(post['beta0'])\n",
    "ax[0].set_xlim([-0.05,0.05])\n",
    "#-- Beta1\n",
    "ax[1].hist(post['beta1'])\n",
    "ax[1].set_xlim([-0.05,0.05])\n",
    "plt.show()"
   ]
  },
  {
   "cell_type": "code",
   "execution_count": null,
   "metadata": {
    "collapsed": true
   },
   "outputs": [],
   "source": []
  }
 ],
 "metadata": {
  "kernelspec": {
   "display_name": "Python 3",
   "language": "python",
   "name": "python3"
  },
  "language_info": {
   "codemirror_mode": {
    "name": "ipython",
    "version": 3
   },
   "file_extension": ".py",
   "mimetype": "text/x-python",
   "name": "python",
   "nbconvert_exporter": "python",
   "pygments_lexer": "ipython3",
   "version": "3.6.0"
  }
 },
 "nbformat": 4,
 "nbformat_minor": 2
}
