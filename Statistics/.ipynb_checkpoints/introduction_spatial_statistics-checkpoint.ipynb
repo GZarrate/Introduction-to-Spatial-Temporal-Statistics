{
 "cells": [
  {
   "cell_type": "markdown",
   "metadata": {},
   "source": [
    "# Introduction to Spatial Statistics\n",
    "\n",
    "In these notes we consider the core problem of the workshop: how to statistically treat spatial dependence. To highlight the problem we hark back to the simple linear regression model\n",
    "\n",
    "$$ y = \\beta_0 + \\beta_1x + \\epsilon  $$\n",
    "\n",
    "where modeled variable $y$ is a linear function of a single input variable $x$. In the basic case we assumed the distribution of $\\epsilon$ as \n",
    "\n"
   ]
  }
 ],
 "metadata": {
  "kernelspec": {
   "display_name": "R",
   "language": "R",
   "name": "ir"
  },
  "language_info": {
   "codemirror_mode": "r",
   "file_extension": ".r",
   "mimetype": "text/x-r-source",
   "name": "R",
   "pygments_lexer": "r",
   "version": "3.3.2"
  }
 },
 "nbformat": 4,
 "nbformat_minor": 0
}
