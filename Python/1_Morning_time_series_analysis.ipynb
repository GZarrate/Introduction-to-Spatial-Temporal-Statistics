{
 "cells": [
  {
   "cell_type": "markdown",
   "metadata": {
    "deletable": true,
    "editable": true
   },
   "source": [
    "# Morning: Introduction to Time Series Analysis\n",
    "The simplest demonstration of temporal dependence is seen by considering a univariate time series $y(t)$. In our case, $y(t)$ may be the surface-level atmsopheric concentration of ozone at a single EPA air-quality station in Orange County."
   ]
  },
  {
   "cell_type": "code",
   "execution_count": 42,
   "metadata": {
    "collapsed": false,
    "deletable": true,
    "editable": true
   },
   "outputs": [],
   "source": [
    "import numpy as np\n",
    "import rpy2.robjects as robjects\n",
    "from rpy2.robjects.packages import importr\n",
    "import statsmodels.api as sm\n",
    "import matplotlib.pyplot as plt\n",
    "from scipy.linalg import toeplitz\n",
    "\n",
    "r = robjects.r\n",
    "nlme = importr('nlme')"
   ]
  },
  {
   "cell_type": "markdown",
   "metadata": {
    "deletable": true,
    "editable": true
   },
   "source": [
    "## What generates the pattern?"
   ]
  },
  {
   "cell_type": "code",
   "execution_count": null,
   "metadata": {
    "collapsed": true,
    "deletable": true,
    "editable": true
   },
   "outputs": [],
   "source": []
  },
  {
   "cell_type": "markdown",
   "metadata": {
    "deletable": true,
    "editable": true
   },
   "source": [
    "## Is there a trend?"
   ]
  },
  {
   "cell_type": "code",
   "execution_count": 13,
   "metadata": {
    "collapsed": false,
    "deletable": true,
    "editable": true
   },
   "outputs": [
    {
     "name": "stdout",
     "output_type": "stream",
     "text": [
      "\n",
      "Call:\n",
      "(function (formula, data, subset, weights, na.action, method = \"qr\", \n",
      "    model = TRUE, x = FALSE, y = FALSE, qr = TRUE, singular.ok = TRUE, \n",
      "    contrasts = NULL, offset, ...) \n",
      "{\n",
      "    ret.x <- x\n",
      "    ret.y <- y\n",
      "    cl <- match.call()\n",
      "    mf <- match.call(expand.dots = FALSE)\n",
      "    m <- match(c(\"formula\", \"data\", \"subset\", \"weights\", \"na.action\", \n",
      "        \"offset\"), names(mf), 0L)\n",
      "    mf <- mf[c(1L, m)]\n",
      "    mf$drop.unused.levels <- TRUE\n",
      "    mf[[1L]] <- quote(stats::model.frame)\n",
      "    mf <- eval(mf, parent.frame())\n",
      "    if (method == \"model.frame\") \n",
      "        return(mf)\n",
      "    else if (method != \"qr\") \n",
      "        warning(gettextf(\"method = '%s' is not supported. Using 'qr'\", \n",
      "            method), domain = NA)\n",
      "    mt <- attr(mf, \"terms\")\n",
      "    y <- model.response(mf, \"numeric\")\n",
      "    w <- as.vector(model.weights(mf))\n",
      "    if (!is.null(w) && !is.numeric(w)) \n",
      "        stop(\"'weights' must be a numeric vector\")\n",
      "    offset <- as.vector(model.offset(mf))\n",
      "    if (!is.null(offset)) {\n",
      "        if (length(offset) != NROW(y)) \n",
      "            stop(gettextf(\"number of offsets is %d, should equal %d (number of observations)\", \n",
      "                length(offset), NROW(y)), domain = NA)\n",
      "    }\n",
      "    if (is.empty.model(mt)) {\n",
      "        x <- NULL\n",
      "        z <- list(coefficients = if (is.matrix(y)) matrix(, 0, \n",
      "            3) else numeric(), residuals = y, fitted.values = 0 * \n",
      "            y, weights = w, rank = 0L, df.residual = if (!is.null(w)) sum(w != \n",
      "            0) else if (is.matrix(y)) nrow(y) else length(y))\n",
      "        if (!is.null(offset)) {\n",
      "            z$fitted.values <- offset\n",
      "            z$residuals <- y - offset\n",
      "        }\n",
      "    }\n",
      "    else {\n",
      "        x <- model.matrix(mt, mf, contrasts)\n",
      "        z <- if (is.null(w)) \n",
      "            lm.fit(x, y, offset = offset, singular.ok = singular.ok, \n",
      "                ...)\n",
      "        else lm.wfit(x, y, w, offset = offset, singular.ok = singular.ok, \n",
      "            ...)\n",
      "    }\n",
      "    class(z) <- c(if (is.matrix(y)) \"mlm\", \"lm\")\n",
      "    z$na.action <- attr(mf, \"na.action\")\n",
      "    z$offset <- offset\n",
      "    z$contrasts <- attr(x, \"contrasts\")\n",
      "    z$xlevels <- .getXlevels(mt, mf)\n",
      "    z$call <- cl\n",
      "    z$terms <- mt\n",
      "    if (model) \n",
      "        z$model <- mf\n",
      "    if (ret.x) \n",
      "        z$x <- x\n",
      "    if (ret.y) \n",
      "        z$y <- y\n",
      "    if (!qr) \n",
      "        z$qr <- NULL\n",
      "    z\n",
      "})(formula = \"y2 ~ t2\")\n",
      "\n",
      "Residuals:\n",
      "    Min      1Q  Median      3Q     Max \n",
      "-2.4020 -0.6441  0.0608  0.6246  1.9709 \n",
      "\n",
      "Coefficients:\n",
      "             Estimate Std. Error t value Pr(>|t|)    \n",
      "(Intercept) 10.688845   3.290339   3.249  0.00121 ** \n",
      "t2           0.008230   0.001659   4.961 8.55e-07 ***\n",
      "---\n",
      "Signif. codes:  0 ‘***’ 0.001 ‘**’ 0.01 ‘*’ 0.05 ‘.’ 0.1 ‘ ’ 1\n",
      "\n",
      "Residual standard error: 0.9125 on 805 degrees of freedom\n",
      "Multiple R-squared:  0.02967,\tAdjusted R-squared:  0.02846 \n",
      "F-statistic: 24.61 on 1 and 805 DF,  p-value: 8.551e-07\n",
      "\n",
      "\n"
     ]
    }
   ],
   "source": [
    "#-- Get El Nino data\n",
    "sst = np.loadtxt('../Data/detrend.nino34.ascii.txt',skiprows=1)\n",
    "y1 = sst[:,2]\n",
    "t1 = np.linspace(1950,2017,len(y1))\n",
    "\n",
    "#-- Convert Numpy arrays to R objects\n",
    "robjects.globalenv[\"y2\"] = robjects.FloatVector(y1)\n",
    "robjects.globalenv[\"t2\"] = robjects.FloatVector(t1)\n",
    "\n",
    "#-- fit and display results\n",
    "print r.summary(r.lm(\"y2 ~ t2\"))"
   ]
  },
  {
   "cell_type": "markdown",
   "metadata": {
    "deletable": true,
    "editable": true
   },
   "source": [
    "## Generate sample realizations (TO BE COMPLETED)"
   ]
  },
  {
   "cell_type": "code",
   "execution_count": null,
   "metadata": {
    "collapsed": true,
    "deletable": true,
    "editable": true
   },
   "outputs": [],
   "source": []
  },
  {
   "cell_type": "markdown",
   "metadata": {
    "deletable": true,
    "editable": true
   },
   "source": [
    "## The autocorrelation function"
   ]
  },
  {
   "cell_type": "code",
   "execution_count": 16,
   "metadata": {
    "collapsed": false,
    "deletable": true,
    "editable": true
   },
   "outputs": [
    {
     "data": {
      "image/png": "[encoded data removed]",
      "text/plain": [
       "<matplotlib.figure.Figure at 0x111244150>"
      ]
     },
     "metadata": {},
     "output_type": "display_data"
    }
   ],
   "source": [
    "#-- Use the same sst data as above\n",
    "n = len(y1) # number of elements\n",
    "\n",
    "#-- Set up figure\n",
    "fig = plt.figure(figsize=(14,6))\n",
    "ax1 = fig.add_subplot(121)\n",
    "\n",
    "#-- Plot scatter plot of values shifted by 1\n",
    "ax1.scatter(y1[1:(n-1)],y1[2:n],color='k',marker='*')\n",
    "ax1.set_xlabel('y[1:(n-1)]',fontsize=16)\n",
    "ax1.set_ylabel('y[2:n]',fontsize=16)\n",
    "\n",
    "#-- plot autocorrelation\n",
    "ax2 = fig.add_subplot(122)\n",
    "sm.graphics.tsa.plot_acf(y1,lags=30,alpha=None,ax=ax2)\n",
    "ax2.plot(np.linspace(0,20),0.78**np.linspace(0,20))\n",
    "ax2.set_xlabel('Lag', fontsize=16)\n",
    "ax2.set_ylabel('ACF',fontsize=16)\n",
    "plt.show()"
   ]
  },
  {
   "cell_type": "markdown",
   "metadata": {
    "deletable": true,
    "editable": true
   },
   "source": [
    "## Generate various time series structures"
   ]
  },
  {
   "cell_type": "code",
   "execution_count": null,
   "metadata": {
    "collapsed": true,
    "deletable": true,
    "editable": true
   },
   "outputs": [],
   "source": []
  },
  {
   "cell_type": "markdown",
   "metadata": {
    "deletable": true,
    "editable": true
   },
   "source": [
    "## Simulation of slope estimation"
   ]
  },
  {
   "cell_type": "code",
   "execution_count": null,
   "metadata": {
    "collapsed": true,
    "deletable": true,
    "editable": true
   },
   "outputs": [],
   "source": []
  },
  {
   "cell_type": "code",
   "execution_count": null,
   "metadata": {
    "collapsed": true,
    "deletable": true,
    "editable": true
   },
   "outputs": [],
   "source": []
  },
  {
   "cell_type": "markdown",
   "metadata": {
    "deletable": true,
    "editable": true
   },
   "source": [
    "## Simple trend analysis with autocorrelation (FIX: DOESN'T TAKE CORR INTO ACCOUNT!)"
   ]
  },
  {
   "cell_type": "code",
   "execution_count": 47,
   "metadata": {
    "collapsed": false
   },
   "outputs": [
    {
     "name": "stdout",
     "output_type": "stream",
     "text": [
      "Generalized least squares fit by REML\n",
      "  Model: y2 ~ t2 \n",
      "  Data: NULL \n",
      "       AIC      BIC    logLik\n",
      "  2162.433 2176.506 -1078.217\n",
      "\n",
      "Coefficients:\n",
      "               Value Std.Error  t-value p-value\n",
      "(Intercept) 10.68885  3.290339 3.248555  0.0012\n",
      "t2           0.00823  0.001659 4.961196  0.0000\n",
      "\n",
      " Correlation: \n",
      "   (Intr)\n",
      "t2 -1    \n",
      "\n",
      "Standardized residuals:\n",
      "        Min          Q1         Med          Q3         Max \n",
      "-2.63229171 -0.70582293  0.06662802  0.68451484  2.15986358 \n",
      "\n",
      "Residual standard error: 0.9125292 \n",
      "Degrees of freedom: 807 total; 805 residual\n",
      "\n"
     ]
    }
   ],
   "source": [
    "robjects.globalenv[\"y2\"] = robjects.FloatVector(y1)\n",
    "robjects.globalenv[\"t2\"] = robjects.FloatVector(t1)\n",
    "print r.summary(nlme.gls(r.formula(\"y2 ~ t2\", correlation=nlme.corAR1())))"
   ]
  },
  {
   "cell_type": "code",
   "execution_count": 43,
   "metadata": {
    "collapsed": false,
    "deletable": true,
    "editable": true
   },
   "outputs": [
    {
     "name": "stdout",
     "output_type": "stream",
     "text": [
      "[ 0.91881805]\n",
      "                            GLS Regression Results                            \n",
      "==============================================================================\n",
      "Dep. Variable:                      y   R-squared:                       0.421\n",
      "Model:                            GLS   Adj. R-squared:                  0.420\n",
      "Method:                 Least Squares   F-statistic:                     585.0\n",
      "Date:                Mon, 10 Apr 2017   Prob (F-statistic):           1.44e-97\n",
      "Time:                        15:11:58   Log-Likelihood:                -309.81\n",
      "No. Observations:                 807   AIC:                             623.6\n",
      "Df Residuals:                     805   BIC:                             633.0\n",
      "Df Model:                           1                                         \n",
      "Covariance Type:            nonrobust                                         \n",
      "==============================================================================\n",
      "                 coef    std err          t      P>|t|      [0.025      0.975]\n",
      "------------------------------------------------------------------------------\n",
      "const          6.3303     15.137      0.418      0.676     -23.383      36.043\n",
      "x1             0.0104      0.008      1.365      0.173      -0.005       0.025\n",
      "==============================================================================\n",
      "Omnibus:                        8.050   Durbin-Watson:                   0.775\n",
      "Prob(Omnibus):                  0.018   Jarque-Bera (JB):                8.006\n",
      "Skew:                          -0.221   Prob(JB):                       0.0183\n",
      "Kurtosis:                       3.208   Cond. No.                     1.98e+05\n",
      "==============================================================================\n",
      "\n",
      "Warnings:\n",
      "[1] Standard Errors assume that the covariance matrix of the errors is correctly specified.\n",
      "[2] The condition number is large, 1.98e+05. This might indicate that there are\n",
      "strong multicollinearity or other numerical problems.\n"
     ]
    }
   ],
   "source": [
    "#------------------------------------------------------------------------------------------------------\n",
    "#-- OPTIONAL ADDITION: CALCULATING COVARIANCE MATRIX IN PYTHON FOR TREND ANALYSIS WITH AUTOCORRELATION\n",
    "#------------------------------------------------------------------------------------------------------\n",
    "\n",
    "#-- Make design matrix\n",
    "X = np.column_stack((np.ones(len(t1)),t1))\n",
    "#-- First fit our data and design matrix from above and get the residuals\n",
    "ols_resid = sm.OLS(y1,X).fit().resid\n",
    "#-- Now we want to fit the residuals from the second element to the end vs. from the beginning to the second last \n",
    "#-- i.e shifting the residuals by 1 and fitting them\n",
    "res_fit = sm.OLS(ols_resid[1:], ols_resid[:-1]).fit()\n",
    "#-- Get the estimate of correlation of residuals\n",
    "rho = res_fit.params\n",
    "print rho\n",
    "#-- build Toeplitz matrix assuming neighbors are more correlated\n",
    "order = toeplitz(np.arange(len(ols_resid)))\n",
    "#-- get the autocorrelation structure\n",
    "sigma = rho**order\n",
    "\n",
    "#-- Now input the covariance matrix into generalized least squares\n",
    "gls_model = sm.GLS(y1, X, sigma=sigma)\n",
    "gls_results = gls_model.fit()\n",
    "print gls_results.summary()"
   ]
  },
  {
   "cell_type": "markdown",
   "metadata": {
    "deletable": true,
    "editable": true
   },
   "source": [
    "# MORNING BREAK"
   ]
  }
 ],
 "metadata": {
  "kernelspec": {
   "display_name": "Python 2",
   "language": "python",
   "name": "python2"
  },
  "language_info": {
   "codemirror_mode": {
    "name": "ipython",
    "version": 2
   },
   "file_extension": ".py",
   "mimetype": "text/x-python",
   "name": "python",
   "nbconvert_exporter": "python",
   "pygments_lexer": "ipython2",
   "version": "2.7.13"
  }
 },
 "nbformat": 4,
 "nbformat_minor": 2
}
