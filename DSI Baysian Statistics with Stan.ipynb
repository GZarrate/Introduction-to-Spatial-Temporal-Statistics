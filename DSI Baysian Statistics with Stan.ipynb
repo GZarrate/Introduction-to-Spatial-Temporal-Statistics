{
 "cells": [
  {
   "cell_type": "markdown",
   "metadata": {},
   "source": [
    "# Baysian Statistics with Stan in R and Python"
   ]
  },
  {
   "cell_type": "markdown",
   "metadata": {},
   "source": [
    "Welcome to the Environmental Baysian Statistics course! We will utilize the STAN package in Python and R to perform spatio-temporal statistics."
   ]
  },
  {
   "cell_type": "markdown",
   "metadata": {},
   "source": [
    "# Preparing for the workshop: Requirements"
   ]
  },
  {
   "cell_type": "markdown",
   "metadata": {},
   "source": [
    "Knowledge requirements: Basic knowedge of Python OR R (working with data, plotting, etc.)\n",
    "\n",
    "For this workshop we use Jupyter notebooks, which provides a convenient way to share scripts and run them right in the notebook! Jupyter notebooks comes autoamtically with the Anaconda python platform. Download the latest version here: https://www.continuum.io/downloads and follow the instructions to install. \n",
    "\n",
    "Once you have installed Anaconda, you should also install the required package for today: pystan, the python Stan package. You can use the Conda command in command-line to install the package:"
   ]
  },
  {
   "cell_type": "code",
   "execution_count": null,
   "metadata": {
    "collapsed": true
   },
   "outputs": [],
   "source": [
    "sudo conda install pystan"
   ]
  },
  {
   "cell_type": "markdown",
   "metadata": {},
   "source": [
    "After you put in your password, the package will be installed. \n",
    "\n",
    "You can also launch Jupyter by simply typing \"jupyter notebook\" in command line. This will open up the notebook in your browser, and you can simply navigate to the local notebooks on your computer and open them. So first you need to clone or clone this notebook from Github:\n",
    "\n",
    "Go to the course Github page (DSI Environemtnal Baysian Stats) and click on Clone or Download. The easiest option is to just download the whole repostory as a zip file (\"Download ZIP\" button). \n",
    "\n",
    "Remember where you save the repostory. After opening the Jupyter notebook, navigate to this location and opem up the notebook."
   ]
  },
  {
   "cell_type": "markdown",
   "metadata": {},
   "source": [
    "# Course Organization: Schedule"
   ]
  },
  {
   "cell_type": "markdown",
   "metadata": {},
   "source": [
    "# Session 1"
   ]
  },
  {
   "cell_type": "markdown",
   "metadata": {},
   "source": [
    "# Example Code"
   ]
  },
  {
   "cell_type": "code",
   "execution_count": 1,
   "metadata": {
    "collapsed": false
   },
   "outputs": [],
   "source": [
    "#-- Import Packages\n",
    "import pystan\n",
    "import numpy as np"
   ]
  },
  {
   "cell_type": "code",
   "execution_count": 2,
   "metadata": {
    "collapsed": true
   },
   "outputs": [],
   "source": [
    "#-- Define a model: Normal Distribution with average mu and std 1.\n",
    "Nmod = \"\"\"\n",
    "data {\n",
    "    int<lower=1> N;\n",
    "    real y[N];\n",
    "}\n",
    "parameters {\n",
    "    real mu;\n",
    "}\n",
    "model {\n",
    "    y ~ normal(mu, 1);\n",
    "}\n",
    "\"\"\""
   ]
  },
  {
   "cell_type": "code",
   "execution_count": 3,
   "metadata": {
    "collapsed": false
   },
   "outputs": [
    {
     "name": "stderr",
     "output_type": "stream",
     "text": [
      "INFO:pystan:COMPILING THE C++ CODE FOR MODEL anon_model_3aaa1aff3be33470f8a5bfa56085d51c NOW.\n"
     ]
    }
   ],
   "source": [
    "#-- Now implement the model.\n",
    "mod = pystan.StanModel(model_code=Nmod)"
   ]
  },
  {
   "cell_type": "code",
   "execution_count": 4,
   "metadata": {
    "collapsed": false
   },
   "outputs": [
    {
     "name": "stdout",
     "output_type": "stream",
     "text": [
      "-0.153842632755\n"
     ]
    }
   ],
   "source": [
    "#-- Create a random sample of 30 points from a flat distribution.\n",
    "sample = np.random.normal(size=20)\n",
    "print(sample.mean())"
   ]
  },
  {
   "cell_type": "code",
   "execution_count": 5,
   "metadata": {
    "collapsed": false
   },
   "outputs": [
    {
     "name": "stdout",
     "output_type": "stream",
     "text": [
      "OrderedDict([('mu', array(-0.15384263275511367))])\n"
     ]
    }
   ],
   "source": [
    "#-- Now we want to maximize the posterior by using teh opimizing function.\n",
    "#-- We will get the true population mean from the sample.\n",
    "population = mod.optimizing(data=dict(y=sample, N=len(sample)))\n",
    "print(population)"
   ]
  },
  {
   "cell_type": "code",
   "execution_count": null,
   "metadata": {
    "collapsed": true
   },
   "outputs": [],
   "source": [
    "fit = mod.sampling(data=data=dict(y=sample, N=len(sample)))"
   ]
  }
 ],
 "metadata": {
  "kernelspec": {
   "display_name": "Python 3",
   "language": "python",
   "name": "python3"
  },
  "language_info": {
   "codemirror_mode": {
    "name": "ipython",
    "version": 3
   },
   "file_extension": ".py",
   "mimetype": "text/x-python",
   "name": "python",
   "nbconvert_exporter": "python",
   "pygments_lexer": "ipython3",
   "version": "3.6.0"
  }
 },
 "nbformat": 4,
 "nbformat_minor": 2
}
