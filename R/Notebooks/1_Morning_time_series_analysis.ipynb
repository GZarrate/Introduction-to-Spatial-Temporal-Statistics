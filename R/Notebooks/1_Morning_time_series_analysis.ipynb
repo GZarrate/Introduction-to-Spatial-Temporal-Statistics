{
 "cells": [
  {
   "cell_type": "markdown",
   "metadata": {},
   "source": [
    "# Morning\n",
    "# Introduction to Time Series Analysis\n",
    "The simplest demonstration of temporal dependence is seen by considering a univariate time series $y(t)$. In our case, $y(t)$ may be the surface-level atmsopheric concentration of ozone at a single EPA air-quality station in Orange County. A plot of such observation may look as follows."
   ]
  },
  {
   "cell_type": "code",
   "execution_count": 97,
   "metadata": {
    "collapsed": false
   },
   "outputs": [
    {
     "data": {
      "image/png": "[encoded data removed]",
      "text/plain": [
       "plot without title"
      ]
     },
     "metadata": {},
     "output_type": "display_data"
    }
   ],
   "source": [
    "rm(list=ls())\n",
    "T        <- 365*5 \n",
    "ts       <- 1:T\n",
    "y0       <- 10\n",
    "a        <- 0.95\n",
    "s        <- 5\n",
    "y1=y2=y3 <- 200\n",
    "b        <- (2*pi/365)\n",
    "p        <- 2*sin(b*(1:T))\n",
    "\n",
    "for(i in 2:T){\n",
    "   y1tp1 <- y0    + a*y1[i-1] + p[i] + rnorm(1,0,s) \n",
    "   y2tp1 <- y2[1] +             p[i] + rnorm(1,0,s)   \n",
    "   y3tp1 <- y3[1]                    + rnorm(1,0,s)\n",
    "   y1    <- c(y1,y1tp1)\n",
    "   y2    <- c(y2,y2tp1)\n",
    "   y3    <- c(y3,y3tp1) \n",
    "}\n",
    "\n",
    "options(repr.plot.width=9, repr.plot.height=2.5)\n",
    "par(mfrow=c(1,3),mar=c(3,4,3,1),cex.axis=0.95)\n",
    "plot(y1,type='l')\n",
    "plot(y2,type='l')\n",
    "plot(y3,type='l')"
   ]
  },
  {
   "cell_type": "markdown",
   "metadata": {},
   "source": [
    "# Periodicity"
   ]
  },
  {
   "cell_type": "code",
   "execution_count": 98,
   "metadata": {
    "collapsed": false
   },
   "outputs": [
    {
     "data": {
      "text/html": [
       "<table>\n",
       "<tbody>\n",
       "\t<tr><td>Correlation of y1 with the seasonal period =  0.84901</td></tr>\n",
       "</tbody>\n",
       "</table>\n"
      ],
      "text/latex": [
       "\\begin{tabular}{l}\n",
       "\t Correlation of y1 with the seasonal period =  0.84901\\\\\n",
       "\\end{tabular}\n"
      ],
      "text/markdown": [
       "\n",
       "| Correlation of y1 with the seasonal period =  0.84901 | \n",
       "\n",
       "\n"
      ],
      "text/plain": [
       "     [,1]                                                 \n",
       "[1,] Correlation of y1 with the seasonal period =  0.84901"
      ]
     },
     "metadata": {},
     "output_type": "display_data"
    },
    {
     "data": {
      "image/png": "[encoded data removed]",
      "text/plain": [
       "plot without title"
      ]
     },
     "metadata": {},
     "output_type": "display_data"
    }
   ],
   "source": [
    "options(repr.plot.width=9, repr.plot.height=2.5)\n",
    "par(mfrow=c(1,3),mar=c(3,4,3,1),cex.axis=0.95)\n",
    "plot(p,type='l',ylab='p(t)',lwd=2)\n",
    "plot(p,y1-mean(y1),pch=19)\n",
    "matrix(paste('Correlation of y1 with the seasonal period = ',round(cor(p,y1-mean(y1)),5)))"
   ]
  },
  {
   "cell_type": "code",
   "execution_count": 99,
   "metadata": {
    "collapsed": false
   },
   "outputs": [
    {
     "data": {
      "text/html": [
       "<table>\n",
       "<thead><tr><th></th><th scope=col>Estimate</th><th scope=col>Std. Error</th></tr></thead>\n",
       "<tbody>\n",
       "\t<tr><th scope=row>(Intercept)</th><td>198.78988</td><td>0.376890 </td></tr>\n",
       "\t<tr><th scope=row>sin(b * ts)</th><td> 43.98733</td><td>0.533003 </td></tr>\n",
       "\t<tr><th scope=row>cos(b * ts)</th><td>-15.22367</td><td>0.533003 </td></tr>\n",
       "</tbody>\n",
       "</table>\n"
      ],
      "text/latex": [
       "\\begin{tabular}{r|ll}\n",
       "  & Estimate & Std. Error\\\\\n",
       "\\hline\n",
       "\t(Intercept) & 198.78988 & 0.376890 \\\\\n",
       "\tsin(b * ts) &  43.98733 & 0.533003 \\\\\n",
       "\tcos(b * ts) & -15.22367 & 0.533003 \\\\\n",
       "\\end{tabular}\n"
      ],
      "text/markdown": [
       "\n",
       "| <!--/--> | Estimate | Std. Error | \n",
       "|---|---|---|\n",
       "| (Intercept) | 198.78988 | 0.376890  | \n",
       "| sin(b * ts) |  43.98733 | 0.533003  | \n",
       "| cos(b * ts) | -15.22367 | 0.533003  | \n",
       "\n",
       "\n"
      ],
      "text/plain": [
       "            Estimate  Std. Error\n",
       "(Intercept) 198.78988 0.376890  \n",
       "sin(b * ts)  43.98733 0.533003  \n",
       "cos(b * ts) -15.22367 0.533003  "
      ]
     },
     "metadata": {},
     "output_type": "display_data"
    },
    {
     "data": {
      "text/html": [
       "<table>\n",
       "<thead><tr><th></th><th scope=col>Estimate</th><th scope=col>Std. Error</th></tr></thead>\n",
       "<tbody>\n",
       "\t<tr><th scope=row>(Intercept)</th><td>200.15196647</td><td>0.1176583   </td></tr>\n",
       "\t<tr><th scope=row>sin(b * ts)</th><td>  1.74205342</td><td>0.1663940   </td></tr>\n",
       "\t<tr><th scope=row>cos(b * ts)</th><td>  0.04932066</td><td>0.1663940   </td></tr>\n",
       "</tbody>\n",
       "</table>\n"
      ],
      "text/latex": [
       "\\begin{tabular}{r|ll}\n",
       "  & Estimate & Std. Error\\\\\n",
       "\\hline\n",
       "\t(Intercept) & 200.15196647 & 0.1176583   \\\\\n",
       "\tsin(b * ts) &   1.74205342 & 0.1663940   \\\\\n",
       "\tcos(b * ts) &   0.04932066 & 0.1663940   \\\\\n",
       "\\end{tabular}\n"
      ],
      "text/markdown": [
       "\n",
       "| <!--/--> | Estimate | Std. Error | \n",
       "|---|---|---|\n",
       "| (Intercept) | 200.15196647 | 0.1176583    | \n",
       "| sin(b * ts) |   1.74205342 | 0.1663940    | \n",
       "| cos(b * ts) |   0.04932066 | 0.1663940    | \n",
       "\n",
       "\n"
      ],
      "text/plain": [
       "            Estimate     Std. Error\n",
       "(Intercept) 200.15196647 0.1176583 \n",
       "sin(b * ts)   1.74205342 0.1663940 \n",
       "cos(b * ts)   0.04932066 0.1663940 "
      ]
     },
     "metadata": {},
     "output_type": "display_data"
    },
    {
     "data": {
      "text/html": [
       "<table>\n",
       "<thead><tr><th></th><th scope=col>Estimate</th><th scope=col>Std. Error</th></tr></thead>\n",
       "<tbody>\n",
       "\t<tr><th scope=row>(Intercept)</th><td>199.84952092</td><td>0.1136783   </td></tr>\n",
       "\t<tr><th scope=row>sin(b * ts)</th><td>  0.04914628</td><td>0.1607654   </td></tr>\n",
       "\t<tr><th scope=row>cos(b * ts)</th><td> -0.32267177</td><td>0.1607654   </td></tr>\n",
       "</tbody>\n",
       "</table>\n"
      ],
      "text/latex": [
       "\\begin{tabular}{r|ll}\n",
       "  & Estimate & Std. Error\\\\\n",
       "\\hline\n",
       "\t(Intercept) & 199.84952092 & 0.1136783   \\\\\n",
       "\tsin(b * ts) &   0.04914628 & 0.1607654   \\\\\n",
       "\tcos(b * ts) &  -0.32267177 & 0.1607654   \\\\\n",
       "\\end{tabular}\n"
      ],
      "text/markdown": [
       "\n",
       "| <!--/--> | Estimate | Std. Error | \n",
       "|---|---|---|\n",
       "| (Intercept) | 199.84952092 | 0.1136783    | \n",
       "| sin(b * ts) |   0.04914628 | 0.1607654    | \n",
       "| cos(b * ts) |  -0.32267177 | 0.1607654    | \n",
       "\n",
       "\n"
      ],
      "text/plain": [
       "            Estimate     Std. Error\n",
       "(Intercept) 199.84952092 0.1136783 \n",
       "sin(b * ts)   0.04914628 0.1607654 \n",
       "cos(b * ts)  -0.32267177 0.1607654 "
      ]
     },
     "metadata": {},
     "output_type": "display_data"
    }
   ],
   "source": [
    "fity1 <- lm(y1 ~ sin(b*ts) + cos(b*ts)); summary(fity1)$coefficients[,1:2]\n",
    "fity2 <- lm(y2 ~ sin(b*ts) + cos(b*ts)); summary(fity2)$coefficients[,1:2]\n",
    "fity3 <- lm(y3 ~ sin(b*ts) + cos(b*ts)); summary(fity3)$coefficients[,1:2]"
   ]
  },
  {
   "cell_type": "markdown",
   "metadata": {},
   "source": [
    "# The Autocorrelation/Autocovariance Function"
   ]
  },
  {
   "cell_type": "code",
   "execution_count": 100,
   "metadata": {
    "collapsed": false
   },
   "outputs": [
    {
     "data": {
      "image/png": "[encoded data removed]",
      "text/plain": [
       "Plot with title \"\""
      ]
     },
     "metadata": {},
     "output_type": "display_data"
    }
   ],
   "source": [
    "options(repr.plot.width=9, repr.plot.height=5)\n",
    "par(mfrow=c(2,3),mar=c(3,4,3,1),cex.axis=0.95)\n",
    "acf(y1,lag.max=T,main='',ci=0,ylab='Autocorrelation function'); mtext('y1')\n",
    "acf(y2,lag.max=T,main='',ci=0,ylab=''); mtext('y2')\n",
    "acf(y3,lag.max=T,main='',ci=0,ylab=''); mtext('y3')\n",
    "acf(y1,lag.max=T,main='',ci=0); mtext('Autocovariance function')\n",
    "acf(y2,lag.max=T,main='',ci=0); mtext('')\n",
    "acf(y3,lag.max=T,main='',ci=0); mtext('')"
   ]
  },
  {
   "cell_type": "markdown",
   "metadata": {},
   "source": [
    " # Time Series Decomposition and Trend Analysis"
   ]
  },
  {
   "cell_type": "code",
   "execution_count": 101,
   "metadata": {
    "collapsed": false
   },
   "outputs": [
    {
     "data": {
      "image/png": "[encoded data removed]",
      "text/plain": [
       "plot without title"
      ]
     },
     "metadata": {},
     "output_type": "display_data"
    }
   ],
   "source": [
    "T  <- 365*5   #[days]\n",
    "y0 <- 10      #[x/x]\n",
    "a  <- 0.95\n",
    "s  <- 10\n",
    "yt <- 200\n",
    "e  <- 0\n",
    "b  <- (2*pi/365)\n",
    "p  <- 2*sin(b*(1:T))\n",
    "bt <- 0.1 \n",
    "\n",
    "for(t in 2:T){\n",
    "   etp1 <- a*e[t-1] + rnorm(1,0,s)\n",
    "   ytp1 <- yt[1] + bt*t + p[t] + etp1  \n",
    "   yt   <- c(yt,ytp1)\n",
    "   e    <- c(e,etp1)\n",
    "}\n",
    "\n",
    "options(repr.plot.width=9, repr.plot.height=2.5)\n",
    "par(mfrow=c(1,3),mar=c(3,4,3,1),cex.axis=0.95)\n",
    "plot(yt,type='l')"
   ]
  },
  {
   "cell_type": "code",
   "execution_count": 102,
   "metadata": {
    "collapsed": false
   },
   "outputs": [
    {
     "data": {
      "text/html": [
       "<table>\n",
       "<thead><tr><th></th><th scope=col>Estimate</th><th scope=col>Std. Error</th></tr></thead>\n",
       "<tbody>\n",
       "\t<tr><th scope=row>(Intercept)</th><td>197.1901356</td><td>1.479658112</td></tr>\n",
       "\t<tr><th scope=row>ts</th><td>  0.1028568</td><td>0.001408003</td></tr>\n",
       "\t<tr><th scope=row>sin(b * ts)</th><td> 11.4173564</td><td>1.049037104</td></tr>\n",
       "</tbody>\n",
       "</table>\n"
      ],
      "text/latex": [
       "\\begin{tabular}{r|ll}\n",
       "  & Estimate & Std. Error\\\\\n",
       "\\hline\n",
       "\t(Intercept) & 197.1901356 & 1.479658112\\\\\n",
       "\tts &   0.1028568 & 0.001408003\\\\\n",
       "\tsin(b * ts) &  11.4173564 & 1.049037104\\\\\n",
       "\\end{tabular}\n"
      ],
      "text/markdown": [
       "\n",
       "| <!--/--> | Estimate | Std. Error | \n",
       "|---|---|---|\n",
       "| (Intercept) | 197.1901356 | 1.479658112 | \n",
       "| ts |   0.1028568 | 0.001408003 | \n",
       "| sin(b * ts) |  11.4173564 | 1.049037104 | \n",
       "\n",
       "\n"
      ],
      "text/plain": [
       "            Estimate    Std. Error \n",
       "(Intercept) 197.1901356 1.479658112\n",
       "ts            0.1028568 0.001408003\n",
       "sin(b * ts)  11.4173564 1.049037104"
      ]
     },
     "metadata": {},
     "output_type": "display_data"
    },
    {
     "data": {
      "image/png": "[encoded data removed]",
      "text/plain": [
       "plot without title"
      ]
     },
     "metadata": {},
     "output_type": "display_data"
    }
   ],
   "source": [
    "library(nlme)\n",
    "w <- b*ts\n",
    "fityt   <- lm(yt ~ ts + sin(b*ts)); fitytp  <- summary(fityt)$coefficients[,1:2]; fitytp\n",
    "    e   <- residuals(fityt)[2:T]\n",
    "options(repr.plot.width=9, repr.plot.height=2.5)\n",
    "par(mfrow=c(1,3),mar=c(3,4,3,1),cex.axis=0.95)\n",
    "plot(fitytp[2,1]*ts,type='l',lwd=2)\n",
    "plot(fitytp[3,1]*sin(b*ts),type='l',lwd=2)\n",
    "plot(e,type='l',lwd=2)"
   ]
  },
  {
   "cell_type": "code",
   "execution_count": 110,
   "metadata": {
    "collapsed": false
   },
   "outputs": [
    {
     "ename": "ERROR",
     "evalue": "Error in cor(e[2:T], e[1:(t - 1)], na.rm = TRUE): unused argument (na.rm = TRUE)\n",
     "output_type": "error",
     "traceback": [
      "Error in cor(e[2:T], e[1:(t - 1)], na.rm = TRUE): unused argument (na.rm = TRUE)\nTraceback:\n",
      "1. cor(e[2:T], e[1:(t - 1)], na.rm = TRUE)"
     ]
    }
   ],
   "source": [
    "options(repr.plot.width=9, repr.plot.height=2.5)\n",
    "par(mfrow=c(1,3),mar=c(3,4,3,1),cex.axis=0.95)\n",
    "acf(e,lag.max=100,main='',ci=0)\n",
    "plot(e[1:(t-1)],e[2:T],col='grey')\n",
    "ereg <- lm(e[2:T] ~ e[1:(t-1)])\n",
    "cor(e[2:T],e[1:(t-1)],na.rm=TRUE)\n",
    "\n",
    "abline(ereg,lwd=2)\n",
    "summary(ereg)$coefficients[,1:2] \n",
    "acf(e,lag.max=100,main='',ci=0)\n",
    "lines(exp(-(1-0.94514)*seq(1,100)))"
   ]
  },
  {
   "cell_type": "markdown",
   "metadata": {},
   "source": [
    "## Importance of Detrending"
   ]
  },
  {
   "cell_type": "code",
   "execution_count": 104,
   "metadata": {
    "collapsed": false
   },
   "outputs": [
    {
     "data": {
      "image/png": "[encoded data removed]",
      "text/plain": [
       "Plot with title \"\""
      ]
     },
     "metadata": {},
     "output_type": "display_data"
    }
   ],
   "source": [
    "ytd <- yt - predict(lm(yt ~ ts))\n",
    "\n",
    "options(repr.plot.width=9, repr.plot.height=2.5)\n",
    "par(mfrow=c(1,3),mar=c(3,4,3,1),cex.axis=0.95)\n",
    "acf(yt,lag.max=T,main='',ci=0)\n",
    "acf(ytd,lag.max=T,main='',ci=0)"
   ]
  },
  {
   "cell_type": "markdown",
   "metadata": {},
   "source": [
    "# Trend Analysis"
   ]
  },
  {
   "cell_type": "code",
   "execution_count": 105,
   "metadata": {
    "collapsed": false
   },
   "outputs": [
    {
     "data": {
      "text/html": [
       "<table>\n",
       "<thead><tr><th></th><th scope=col>Estimate</th><th scope=col>Std. Error</th></tr></thead>\n",
       "<tbody>\n",
       "\t<tr><th scope=row>(Intercept)</th><td>197.1901356</td><td>1.479658112</td></tr>\n",
       "\t<tr><th scope=row>ts</th><td>  0.1028568</td><td>0.001408003</td></tr>\n",
       "\t<tr><th scope=row>sin(b * ts)</th><td> 11.4173564</td><td>1.049037104</td></tr>\n",
       "</tbody>\n",
       "</table>\n"
      ],
      "text/latex": [
       "\\begin{tabular}{r|ll}\n",
       "  & Estimate & Std. Error\\\\\n",
       "\\hline\n",
       "\t(Intercept) & 197.1901356 & 1.479658112\\\\\n",
       "\tts &   0.1028568 & 0.001408003\\\\\n",
       "\tsin(b * ts) &  11.4173564 & 1.049037104\\\\\n",
       "\\end{tabular}\n"
      ],
      "text/markdown": [
       "\n",
       "| <!--/--> | Estimate | Std. Error | \n",
       "|---|---|---|\n",
       "| (Intercept) | 197.1901356 | 1.479658112 | \n",
       "| ts |   0.1028568 | 0.001408003 | \n",
       "| sin(b * ts) |  11.4173564 | 1.049037104 | \n",
       "\n",
       "\n"
      ],
      "text/plain": [
       "            Estimate    Std. Error \n",
       "(Intercept) 197.1901356 1.479658112\n",
       "ts            0.1028568 0.001408003\n",
       "sin(b * ts)  11.4173564 1.049037104"
      ]
     },
     "metadata": {},
     "output_type": "display_data"
    },
    {
     "data": {
      "text/html": [
       "<table>\n",
       "<thead><tr><th></th><th scope=col>Value</th><th scope=col>Std.Error</th></tr></thead>\n",
       "<tbody>\n",
       "\t<tr><th scope=row>(Intercept)</th><td>197.9684688</td><td>9.116992078</td></tr>\n",
       "\t<tr><th scope=row>ts</th><td>  0.1016824</td><td>0.008628337</td></tr>\n",
       "\t<tr><th scope=row>sin(w)</th><td> 11.0823128</td><td>6.298420596</td></tr>\n",
       "</tbody>\n",
       "</table>\n"
      ],
      "text/latex": [
       "\\begin{tabular}{r|ll}\n",
       "  & Value & Std.Error\\\\\n",
       "\\hline\n",
       "\t(Intercept) & 197.9684688 & 9.116992078\\\\\n",
       "\tts &   0.1016824 & 0.008628337\\\\\n",
       "\tsin(w) &  11.0823128 & 6.298420596\\\\\n",
       "\\end{tabular}\n"
      ],
      "text/markdown": [
       "\n",
       "| <!--/--> | Value | Std.Error | \n",
       "|---|---|---|\n",
       "| (Intercept) | 197.9684688 | 9.116992078 | \n",
       "| ts |   0.1016824 | 0.008628337 | \n",
       "| sin(w) |  11.0823128 | 6.298420596 | \n",
       "\n",
       "\n"
      ],
      "text/plain": [
       "            Value       Std.Error  \n",
       "(Intercept) 197.9684688 9.116992078\n",
       "ts            0.1016824 0.008628337\n",
       "sin(w)       11.0823128 6.298420596"
      ]
     },
     "metadata": {},
     "output_type": "display_data"
    },
    {
     "data": {
      "text/html": [
       "<table>\n",
       "<tbody>\n",
       "\t<tr><td>Phi estimate =  0.94858</td></tr>\n",
       "</tbody>\n",
       "</table>\n"
      ],
      "text/latex": [
       "\\begin{tabular}{l}\n",
       "\t Phi estimate =  0.94858\\\\\n",
       "\\end{tabular}\n"
      ],
      "text/markdown": [
       "\n",
       "| Phi estimate =  0.94858 | \n",
       "\n",
       "\n"
      ],
      "text/plain": [
       "     [,1]                   \n",
       "[1,] Phi estimate =  0.94858"
      ]
     },
     "metadata": {},
     "output_type": "display_data"
    },
    {
     "data": {
      "image/png": "[encoded data removed]",
      "text/plain": [
       "plot without title"
      ]
     },
     "metadata": {},
     "output_type": "display_data"
    }
   ],
   "source": [
    "fitytar <- gls(yt  ~ ts + sin(w), correlation = corAR1()); fitytarp <- summary(fitytar)$tTable[,1:2]; fitytp; fitytarp\n",
    "    ear <- as.numeric(residuals(fitytar)); ear <- ear[-1]\n",
    "    phi <- as.numeric(coef(fitytar$modelStruct$corStruct,unconstrained=FALSE)); matrix(paste('Phi estimate = ',round(phi,5)))\n",
    "    ear <- ear[2:T] - phi*ear[1:(T-1)]\n",
    "\n",
    "options(repr.plot.width=9, repr.plot.height=2.5)\n",
    "par(mfrow=c(1,3),mar=c(3,4,3,1),cex.axis=0.95)\n",
    "plot(fitytarp[2,1]*ts,type='l',lwd=2)\n",
    "plot(fitytarp[3,1]*sin(b*ts),type='l',lwd=2)\n",
    "plot(ear,type='l',lwd=2)"
   ]
  },
  {
   "cell_type": "code",
   "execution_count": null,
   "metadata": {
    "collapsed": true
   },
   "outputs": [],
   "source": []
  }
 ],
 "metadata": {
  "anaconda-cloud": {},
  "kernelspec": {
   "display_name": "R",
   "language": "R",
   "name": "ir"
  },
  "language_info": {
   "codemirror_mode": "r",
   "file_extension": ".r",
   "mimetype": "text/x-r-source",
   "name": "R",
   "pygments_lexer": "r",
   "version": "3.3.2"
  }
 },
 "nbformat": 4,
 "nbformat_minor": 0
}
